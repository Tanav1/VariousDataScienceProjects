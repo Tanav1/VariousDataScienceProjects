{
 "cells": [
  {
   "cell_type": "markdown",
   "metadata": {},
   "source": [
    "# Lab 4: Sampling and Randomness for Penn State DS 200\n",
    "\n",
    "## Acknowledgements: \n",
    "### This lab is adopted from a lab of data 8 course at University of California, Berkeley.  I also wish to thank Dr. Matthew Beckman (in Department of Statistics) for contributing to the revision of the lab for the purpose of its use in DS 200.\n",
    "\n",
    "We will introduce the important two important concepts in statistics: sampling and randomness [randomness](https://www.inferentialthinking.com/chapters/09/Randomness.html).\n",
    "\n",
    "The data used in this lab will contain salary data and other statistics for basketball players from the 2014-2015 NBA season. This data was collected from the following sports analytic sites: [Basketball Reference](http://www.basketball-reference.com) and [Spotrac](http://www.spotrac.com).\n",
    "\n",
    "First, install the datascience module by running the cell below, which will take some time. Wait untill the installation process completes."
   ]
  },
  {
   "cell_type": "code",
   "execution_count": 1,
   "metadata": {},
   "outputs": [
    {
     "name": "stdout",
     "output_type": "stream",
     "text": [
      "Requirement already satisfied: datascience in /anaconda3/lib/python3.7/site-packages (0.15.0)\n",
      "Requirement already satisfied: coveralls in /anaconda3/lib/python3.7/site-packages (from datascience) (1.8.2)\n",
      "Requirement already satisfied: folium>=0.9.1 in /anaconda3/lib/python3.7/site-packages (from datascience) (0.10.0)\n",
      "Requirement already satisfied: pytest in /anaconda3/lib/python3.7/site-packages (from datascience) (5.0.1)\n",
      "Requirement already satisfied: bokeh in /anaconda3/lib/python3.7/site-packages (from datascience) (1.2.0)\n",
      "Requirement already satisfied: matplotlib>=3.0.0 in /anaconda3/lib/python3.7/site-packages (from datascience) (3.1.0)\n",
      "Requirement already satisfied: sphinx in /anaconda3/lib/python3.7/site-packages (from datascience) (2.1.2)\n",
      "Requirement already satisfied: scipy in /anaconda3/lib/python3.7/site-packages (from datascience) (1.3.0)\n",
      "Requirement already satisfied: setuptools in /anaconda3/lib/python3.7/site-packages (from datascience) (41.0.1)\n",
      "Requirement already satisfied: pandas in /anaconda3/lib/python3.7/site-packages (from datascience) (0.24.2)\n",
      "Requirement already satisfied: coverage==4.5.3 in /anaconda3/lib/python3.7/site-packages (from datascience) (4.5.3)\n",
      "Requirement already satisfied: numpy in /anaconda3/lib/python3.7/site-packages (from datascience) (1.16.4)\n",
      "Requirement already satisfied: ipython in /anaconda3/lib/python3.7/site-packages (from datascience) (7.6.1)\n",
      "Requirement already satisfied: docopt>=0.6.1 in /anaconda3/lib/python3.7/site-packages (from coveralls->datascience) (0.6.2)\n",
      "Requirement already satisfied: requests>=1.0.0 in /anaconda3/lib/python3.7/site-packages (from coveralls->datascience) (2.22.0)\n",
      "Requirement already satisfied: branca>=0.3.0 in /anaconda3/lib/python3.7/site-packages (from folium>=0.9.1->datascience) (0.3.1)\n",
      "Requirement already satisfied: jinja2>=2.9 in /anaconda3/lib/python3.7/site-packages (from folium>=0.9.1->datascience) (2.10.1)\n",
      "Requirement already satisfied: py>=1.5.0 in /anaconda3/lib/python3.7/site-packages (from pytest->datascience) (1.8.0)\n",
      "Requirement already satisfied: packaging in /anaconda3/lib/python3.7/site-packages (from pytest->datascience) (19.0)\n",
      "Requirement already satisfied: attrs>=17.4.0 in /anaconda3/lib/python3.7/site-packages (from pytest->datascience) (19.1.0)\n",
      "Requirement already satisfied: more-itertools>=4.0.0 in /anaconda3/lib/python3.7/site-packages (from pytest->datascience) (7.0.0)\n",
      "Requirement already satisfied: atomicwrites>=1.0 in /anaconda3/lib/python3.7/site-packages (from pytest->datascience) (1.3.0)\n",
      "Requirement already satisfied: pluggy<1.0,>=0.12 in /anaconda3/lib/python3.7/site-packages (from pytest->datascience) (0.12.0)\n",
      "Requirement already satisfied: importlib-metadata>=0.12 in /anaconda3/lib/python3.7/site-packages (from pytest->datascience) (0.17)\n",
      "Requirement already satisfied: wcwidth in /anaconda3/lib/python3.7/site-packages (from pytest->datascience) (0.1.7)\n",
      "Requirement already satisfied: tornado>=4.3 in /anaconda3/lib/python3.7/site-packages (from bokeh->datascience) (6.0.3)\n",
      "Requirement already satisfied: PyYAML>=3.10 in /anaconda3/lib/python3.7/site-packages (from bokeh->datascience) (5.1.1)\n",
      "Requirement already satisfied: pillow>=4.0 in /anaconda3/lib/python3.7/site-packages (from bokeh->datascience) (6.1.0)\n",
      "Requirement already satisfied: python-dateutil>=2.1 in /anaconda3/lib/python3.7/site-packages (from bokeh->datascience) (2.8.0)\n",
      "Requirement already satisfied: six>=1.5.2 in /anaconda3/lib/python3.7/site-packages (from bokeh->datascience) (1.12.0)\n",
      "Requirement already satisfied: cycler>=0.10 in /anaconda3/lib/python3.7/site-packages (from matplotlib>=3.0.0->datascience) (0.10.0)\n",
      "Requirement already satisfied: kiwisolver>=1.0.1 in /anaconda3/lib/python3.7/site-packages (from matplotlib>=3.0.0->datascience) (1.1.0)\n",
      "Requirement already satisfied: pyparsing!=2.0.4,!=2.1.2,!=2.1.6,>=2.0.1 in /anaconda3/lib/python3.7/site-packages (from matplotlib>=3.0.0->datascience) (2.4.0)\n",
      "Requirement already satisfied: babel!=2.0,>=1.3 in /anaconda3/lib/python3.7/site-packages (from sphinx->datascience) (2.7.0)\n",
      "Requirement already satisfied: sphinxcontrib-devhelp in /anaconda3/lib/python3.7/site-packages (from sphinx->datascience) (1.0.1)\n",
      "Requirement already satisfied: alabaster<0.8,>=0.7 in /anaconda3/lib/python3.7/site-packages (from sphinx->datascience) (0.7.12)\n",
      "Requirement already satisfied: snowballstemmer>=1.1 in /anaconda3/lib/python3.7/site-packages (from sphinx->datascience) (1.9.0)\n",
      "Requirement already satisfied: sphinxcontrib-htmlhelp in /anaconda3/lib/python3.7/site-packages (from sphinx->datascience) (1.0.2)\n",
      "Requirement already satisfied: sphinxcontrib-applehelp in /anaconda3/lib/python3.7/site-packages (from sphinx->datascience) (1.0.1)\n",
      "Requirement already satisfied: Pygments>=2.0 in /anaconda3/lib/python3.7/site-packages (from sphinx->datascience) (2.4.2)\n",
      "Requirement already satisfied: imagesize in /anaconda3/lib/python3.7/site-packages (from sphinx->datascience) (1.1.0)\n",
      "Requirement already satisfied: sphinxcontrib-qthelp in /anaconda3/lib/python3.7/site-packages (from sphinx->datascience) (1.0.2)\n",
      "Requirement already satisfied: docutils>=0.12 in /anaconda3/lib/python3.7/site-packages (from sphinx->datascience) (0.14)\n",
      "Requirement already satisfied: sphinxcontrib-serializinghtml in /anaconda3/lib/python3.7/site-packages (from sphinx->datascience) (1.1.3)\n",
      "Requirement already satisfied: sphinxcontrib-jsmath in /anaconda3/lib/python3.7/site-packages (from sphinx->datascience) (1.0.1)\n",
      "Requirement already satisfied: pytz>=2011k in /anaconda3/lib/python3.7/site-packages (from pandas->datascience) (2019.1)\n",
      "Requirement already satisfied: jedi>=0.10 in /anaconda3/lib/python3.7/site-packages (from ipython->datascience) (0.13.3)\n",
      "Requirement already satisfied: pickleshare in /anaconda3/lib/python3.7/site-packages (from ipython->datascience) (0.7.5)\n",
      "Requirement already satisfied: pexpect; sys_platform != \"win32\" in /anaconda3/lib/python3.7/site-packages (from ipython->datascience) (4.7.0)\n",
      "Requirement already satisfied: appnope; sys_platform == \"darwin\" in /anaconda3/lib/python3.7/site-packages (from ipython->datascience) (0.1.0)\n",
      "Requirement already satisfied: decorator in /anaconda3/lib/python3.7/site-packages (from ipython->datascience) (4.4.0)\n",
      "Requirement already satisfied: prompt-toolkit<2.1.0,>=2.0.0 in /anaconda3/lib/python3.7/site-packages (from ipython->datascience) (2.0.9)\n",
      "Requirement already satisfied: traitlets>=4.2 in /anaconda3/lib/python3.7/site-packages (from ipython->datascience) (4.3.2)\n",
      "Requirement already satisfied: backcall in /anaconda3/lib/python3.7/site-packages (from ipython->datascience) (0.1.0)\n",
      "Requirement already satisfied: chardet<3.1.0,>=3.0.2 in /anaconda3/lib/python3.7/site-packages (from requests>=1.0.0->coveralls->datascience) (3.0.4)\n",
      "Requirement already satisfied: certifi>=2017.4.17 in /anaconda3/lib/python3.7/site-packages (from requests>=1.0.0->coveralls->datascience) (2019.6.16)\n",
      "Requirement already satisfied: urllib3!=1.25.0,!=1.25.1,<1.26,>=1.21.1 in /anaconda3/lib/python3.7/site-packages (from requests>=1.0.0->coveralls->datascience) (1.24.2)\n",
      "Requirement already satisfied: idna<2.9,>=2.5 in /anaconda3/lib/python3.7/site-packages (from requests>=1.0.0->coveralls->datascience) (2.8)\n",
      "Requirement already satisfied: MarkupSafe>=0.23 in /anaconda3/lib/python3.7/site-packages (from jinja2>=2.9->folium>=0.9.1->datascience) (1.1.1)\n",
      "Requirement already satisfied: zipp>=0.5 in /anaconda3/lib/python3.7/site-packages (from importlib-metadata>=0.12->pytest->datascience) (0.5.1)\n",
      "Requirement already satisfied: parso>=0.3.0 in /anaconda3/lib/python3.7/site-packages (from jedi>=0.10->ipython->datascience) (0.5.0)\n",
      "Requirement already satisfied: ptyprocess>=0.5 in /anaconda3/lib/python3.7/site-packages (from pexpect; sys_platform != \"win32\"->ipython->datascience) (0.6.0)\n",
      "Requirement already satisfied: ipython-genutils in /anaconda3/lib/python3.7/site-packages (from traitlets>=4.2->ipython->datascience) (0.2.0)\n"
     ]
    }
   ],
   "source": [
    "!pip install datascience"
   ]
  },
  {
   "cell_type": "code",
   "execution_count": 11,
   "metadata": {},
   "outputs": [],
   "source": [
    "# Run this cell to import relevant Python modules. Please don't change it.\n",
    "\n",
    "# These lines import the Numpy and Datascience modules.\n",
    "import numpy as np\n",
    "from datascience import *\n",
    "\n",
    "# These lines do some fancy plotting magic\n",
    "import matplotlib\n",
    "%matplotlib inline\n",
    "import matplotlib.pyplot as plt\n",
    "plt.style.use('fivethirtyeight')\n",
    "\n",
    "# Don't change this cell; just run it. \n",
    "#from client.api.notebook import Notebook\n",
    "#ok = Notebook('lab05.ok')"
   ]
  },
  {
   "cell_type": "markdown",
   "metadata": {},
   "source": [
    "### Python: Conditionals and Random Choice"
   ]
  },
  {
   "cell_type": "markdown",
   "metadata": {},
   "source": [
    "In Python, the boolean data type contains only two unique values:  `True` and `False`. Expressions containing comparison operators such as `<` (less than), `>` (greater than), and `==` (equal to) evaluate to Boolean values. "
   ]
  },
  {
   "cell_type": "markdown",
   "metadata": {},
   "source": [
    "Run the cell below to see an example of a comparison operator in action."
   ]
  },
  {
   "cell_type": "code",
   "execution_count": 2,
   "metadata": {},
   "outputs": [
    {
     "data": {
      "text/plain": [
       "True"
      ]
     },
     "execution_count": 2,
     "metadata": {},
     "output_type": "execute_result"
    }
   ],
   "source": [
    "3 > 1 + 1"
   ]
  },
  {
   "cell_type": "markdown",
   "metadata": {},
   "source": [
    "We can even assign the result of a comparison operation to a variable."
   ]
  },
  {
   "cell_type": "code",
   "execution_count": 3,
   "metadata": {},
   "outputs": [
    {
     "data": {
      "text/plain": [
       "True"
      ]
     },
     "execution_count": 3,
     "metadata": {},
     "output_type": "execute_result"
    }
   ],
   "source": [
    "result = 10 / 2 == 5\n",
    "result"
   ]
  },
  {
   "cell_type": "markdown",
   "metadata": {},
   "source": [
    "Arrays are compatible with comparison operators. The output is an array of boolean values."
   ]
  },
  {
   "cell_type": "code",
   "execution_count": 13,
   "metadata": {},
   "outputs": [
    {
     "data": {
      "text/plain": [
       "array([False,  True,  True,  True, False, False])"
      ]
     },
     "execution_count": 13,
     "metadata": {},
     "output_type": "execute_result"
    }
   ],
   "source": [
    "make_array(1, 5, 7, 8, 3, -1) > 3"
   ]
  },
  {
   "cell_type": "markdown",
   "metadata": {},
   "source": [
    "One day, when you come home after a long week, you see a hot bowl of nachos waiting on the dining table! Let's say that whenever you take a nacho from the bowl, it will either have only **cheese**, only **salsa**, **both** cheese and salsa, or **neither** cheese nor salsa (a sad tortilla chip indeed). \n",
    "\n",
    "Let's try and simulate taking nachos from the bowl at random using the function, `np.random.choice(...)`."
   ]
  },
  {
   "cell_type": "markdown",
   "metadata": {},
   "source": [
    "### `np.random.choice`\n",
    "\n",
    "`np.random.choice` picks one item at random from the given array. It is equally likely to pick any of the items. Run the cell below SEVERAL times, and observe how the results may differ for different runs."
   ]
  },
  {
   "cell_type": "code",
   "execution_count": 16,
   "metadata": {},
   "outputs": [
    {
     "data": {
      "text/plain": [
       "'neither'"
      ]
     },
     "execution_count": 16,
     "metadata": {},
     "output_type": "execute_result"
    }
   ],
   "source": [
    "nachos = make_array('cheese', 'salsa', 'both', 'neither')\n",
    "np.random.choice(nachos)"
   ]
  },
  {
   "cell_type": "markdown",
   "metadata": {},
   "source": [
    "To repeat this process multiple times, pass in an int `n` as the second argument. By default, `np.random.choice` samples **with replacement** and returns an *array* of items. \n",
    "\n",
    "Run the next cell to see an example of sampling with replacement 10 times from the `nachos` array."
   ]
  },
  {
   "cell_type": "code",
   "execution_count": 27,
   "metadata": {},
   "outputs": [
    {
     "data": {
      "text/plain": [
       "array(['both', 'salsa', 'salsa', 'cheese', 'neither', 'cheese', 'both',\n",
       "       'cheese', 'cheese', 'both'], dtype='<U7')"
      ]
     },
     "execution_count": 27,
     "metadata": {},
     "output_type": "execute_result"
    }
   ],
   "source": [
    "np.random.choice(nachos, 10)"
   ]
  },
  {
   "cell_type": "markdown",
   "metadata": {},
   "source": [
    "\n",
    "\n"
   ]
  },
  {
   "cell_type": "code",
   "execution_count": null,
   "metadata": {
    "deletable": false
   },
   "outputs": [],
   "source": []
  },
  {
   "cell_type": "code",
   "execution_count": null,
   "metadata": {
    "deletable": false
   },
   "outputs": [],
   "source": []
  },
  {
   "cell_type": "code",
   "execution_count": null,
   "metadata": {
    "deletable": false
   },
   "outputs": [],
   "source": []
  },
  {
   "cell_type": "code",
   "execution_count": null,
   "metadata": {
    "deletable": false
   },
   "outputs": [],
   "source": []
  },
  {
   "cell_type": "code",
   "execution_count": null,
   "metadata": {
    "deletable": false
   },
   "outputs": [],
   "source": []
  },
  {
   "cell_type": "code",
   "execution_count": null,
   "metadata": {
    "deletable": false
   },
   "outputs": [],
   "source": []
  },
  {
   "cell_type": "markdown",
   "metadata": {},
   "source": [
    "## 2. Sampling Basketball Data\n",
    "\n",
    "Run the cell below to load the player and salary data. "
   ]
  },
  {
   "cell_type": "code",
   "execution_count": 19,
   "metadata": {},
   "outputs": [
    {
     "data": {
      "text/html": [
       "<table border=\"1\" class=\"dataframe\">\n",
       "    <thead>\n",
       "        <tr>\n",
       "            <th>Name</th> <th>Age</th> <th>Team</th> <th>Games</th> <th>Rebounds</th> <th>Assists</th> <th>Steals</th> <th>Blocks</th> <th>Turnovers</th> <th>Points</th>\n",
       "        </tr>\n",
       "    </thead>\n",
       "    <tbody>\n",
       "        <tr>\n",
       "            <td>James Harden </td> <td>25  </td> <td>HOU </td> <td>81   </td> <td>459     </td> <td>565    </td> <td>154   </td> <td>60    </td> <td>321      </td> <td>2217  </td>\n",
       "        </tr>\n",
       "        <tr>\n",
       "            <td>Chris Paul   </td> <td>29  </td> <td>LAC </td> <td>82   </td> <td>376     </td> <td>838    </td> <td>156   </td> <td>15    </td> <td>190      </td> <td>1564  </td>\n",
       "        </tr>\n",
       "        <tr>\n",
       "            <td>Stephen Curry</td> <td>26  </td> <td>GSW </td> <td>80   </td> <td>341     </td> <td>619    </td> <td>163   </td> <td>16    </td> <td>249      </td> <td>1900  </td>\n",
       "        </tr>\n",
       "    </tbody>\n",
       "</table>\n",
       "<p>... (489 rows omitted)</p>"
      ],
      "text/plain": [
       "<IPython.core.display.HTML object>"
      ]
     },
     "metadata": {},
     "output_type": "display_data"
    },
    {
     "data": {
      "text/html": [
       "<table border=\"1\" class=\"dataframe\">\n",
       "    <thead>\n",
       "        <tr>\n",
       "            <th>PlayerName</th> <th>Salary</th>\n",
       "        </tr>\n",
       "    </thead>\n",
       "    <tbody>\n",
       "        <tr>\n",
       "            <td>Kobe Bryant      </td> <td>23500000</td>\n",
       "        </tr>\n",
       "        <tr>\n",
       "            <td>Amar'e Stoudemire</td> <td>23410988</td>\n",
       "        </tr>\n",
       "        <tr>\n",
       "            <td>Joe Johnson      </td> <td>23180790</td>\n",
       "        </tr>\n",
       "    </tbody>\n",
       "</table>\n",
       "<p>... (489 rows omitted)</p>"
      ],
      "text/plain": [
       "<IPython.core.display.HTML object>"
      ]
     },
     "metadata": {},
     "output_type": "display_data"
    },
    {
     "data": {
      "text/html": [
       "<table border=\"1\" class=\"dataframe\">\n",
       "    <thead>\n",
       "        <tr>\n",
       "            <th>PlayerName</th> <th>Salary</th> <th>Age</th> <th>Team</th> <th>Games</th> <th>Rebounds</th> <th>Assists</th> <th>Steals</th> <th>Blocks</th> <th>Turnovers</th> <th>Points</th>\n",
       "        </tr>\n",
       "    </thead>\n",
       "    <tbody>\n",
       "        <tr>\n",
       "            <td>A.J. Price  </td> <td>62552  </td> <td>28  </td> <td>TOT </td> <td>26   </td> <td>32      </td> <td>46     </td> <td>7     </td> <td>0     </td> <td>14       </td> <td>133   </td>\n",
       "        </tr>\n",
       "        <tr>\n",
       "            <td>Aaron Brooks</td> <td>1145685</td> <td>30  </td> <td>CHI </td> <td>82   </td> <td>166     </td> <td>261    </td> <td>54    </td> <td>15    </td> <td>157      </td> <td>954   </td>\n",
       "        </tr>\n",
       "        <tr>\n",
       "            <td>Aaron Gordon</td> <td>3992040</td> <td>19  </td> <td>ORL </td> <td>47   </td> <td>169     </td> <td>33     </td> <td>21    </td> <td>22    </td> <td>38       </td> <td>243   </td>\n",
       "        </tr>\n",
       "    </tbody>\n",
       "</table>\n",
       "<p>... (489 rows omitted)</p>"
      ],
      "text/plain": [
       "<IPython.core.display.HTML object>"
      ]
     },
     "metadata": {},
     "output_type": "display_data"
    }
   ],
   "source": [
    "player_data = Table().read_table(\"player_data.csv\")\n",
    "salary_data = Table().read_table(\"salary_data.csv\")\n",
    "full_data = salary_data.join(\"PlayerName\", player_data, \"Name\")\n",
    "\n",
    "# The show method immediately displays the contents of a table. \n",
    "# This way, we can display the top of two tables using a single cell.\n",
    "player_data.show(3)\n",
    "salary_data.show(3)\n",
    "full_data.show(3)"
   ]
  },
  {
   "cell_type": "markdown",
   "metadata": {},
   "source": [
    "Rather than getting data on every player, imagine that we had gotten data on only a smaller subset of the players.  For 492 players, it's not so unreasonable to expect to see all the data, but usually we aren't so lucky.  Instead, we often make statistical inferences about a large underlying population using a smaller sample.\n",
    "\n",
    "### Using a Sample to Estimate the Population\n",
    "\n",
    "A *statistical inference* is a statement about some statistic of the underlying population, such as \"the average salary of NBA players in 2014 was $3\".  You may have heard the word \"inference\" used in other contexts.  It's important to keep in mind that statistical inferences, unlike, say, logical inferences, can be wrong.\n",
    "\n",
    "A general strategy for inference using samples is to estimate statistics of the population by computing the same statistics on a sample.  This strategy sometimes works well and sometimes doesn't.  The degree to which it gives us useful answers depends on several factors, and we'll touch lightly on a few of those today.\n",
    "\n",
    "One very important factor in the utility of samples is how they were gathered.  We have prepared some example sample datasets to simulate inference from different kinds of samples for the NBA player dataset.  Later we'll ask you to create your own samples to see how they behave."
   ]
  },
  {
   "cell_type": "markdown",
   "metadata": {},
   "source": [
    "To save typing and increase the clarity of your code, we will package the analysis code into a few functions. This will be useful in the rest of the lab as we will repeatedly need to create histograms and collect summary statistics from that data."
   ]
  },
  {
   "cell_type": "markdown",
   "metadata": {},
   "source": [
    "We've defined the `histograms` function below, which takes a table with columns `Age` and `Salary` and draws a histogram for each one. It uses bin widths of 1 year for `Age` and $1,000,000 for `Salary`."
   ]
  },
  {
   "cell_type": "code",
   "execution_count": 20,
   "metadata": {
    "scrolled": true
   },
   "outputs": [
    {
     "name": "stdout",
     "output_type": "stream",
     "text": [
      "Two histograms should be displayed below\n"
     ]
    },
    {
     "data": {
      "image/png": "[encoded data removed]",
      "text/plain": [
       "<Figure size 432x288 with 1 Axes>"
      ]
     },
     "metadata": {},
     "output_type": "display_data"
    },
    {
     "data": {
      "image/png": "[encoded data removed]",
      "text/plain": [
       "<Figure size 432x288 with 1 Axes>"
      ]
     },
     "metadata": {},
     "output_type": "display_data"
    }
   ],
   "source": [
    "def histograms(t):\n",
    "    ages = t.column('Age')\n",
    "    salaries = t.column('Salary')/1000000\n",
    "    t1 = t.drop('Salary').with_column('Salary', salaries)\n",
    "    age_bins = np.arange(min(ages), max(ages) + 2, 1) \n",
    "    salary_bins = np.arange(min(salaries), max(salaries) + 1, 1)\n",
    "    t1.hist('Age', bins=age_bins, unit='year')\n",
    "    plt.title('Age distribution')\n",
    "    t1.hist('Salary', bins=salary_bins, unit='million dollars')\n",
    "    plt.title('Salary distribution') \n",
    "    \n",
    "histograms(full_data)\n",
    "print('Two histograms should be displayed below')"
   ]
  },
  {
   "cell_type": "markdown",
   "metadata": {},
   "source": []
  },
  {
   "cell_type": "markdown",
   "metadata": {},
   "source": [
    "Markdown and LaTex:  a²"
   ]
  },
  {
   "cell_type": "code",
   "execution_count": null,
   "metadata": {
    "deletable": false,
    "scrolled": true
   },
   "outputs": [],
   "source": []
  },
  {
   "cell_type": "markdown",
   "metadata": {},
   "source": [
    "### Convenience sampling\n",
    "One sampling methodology, which is **generally a bad idea**, is to choose players who are somehow convenient to sample.  For example, you might choose players from one team who are near your house, since it's easier to survey them.  This is called, somewhat pejoratively, *convenience sampling*.\n",
    "\n",
    "Suppose you survey only *relatively new* players with ages less than 22.  (The more experienced players didn't bother to answer your surveys about their salaries.)\n",
    "\n",
    "### Exercise 1.\n",
    "Assign `convenience_sample` to a subset of `full_data` that contains only the rows for players under the age of 22.\n",
    "#### Hint: where(\"Age\", are.above(...)) or where(\"Age\", are.below(..)) can be useful here."
   ]
  },
  {
   "cell_type": "code",
   "execution_count": 22,
   "metadata": {},
   "outputs": [
    {
     "data": {
      "text/html": [
       "<table border=\"1\" class=\"dataframe\">\n",
       "    <thead>\n",
       "        <tr>\n",
       "            <th>PlayerName</th> <th>Salary</th> <th>Age</th> <th>Team</th> <th>Games</th> <th>Rebounds</th> <th>Assists</th> <th>Steals</th> <th>Blocks</th> <th>Turnovers</th> <th>Points</th>\n",
       "        </tr>\n",
       "    </thead>\n",
       "    <tbody>\n",
       "        <tr>\n",
       "            <td>Aaron Gordon   </td> <td>3992040</td> <td>19  </td> <td>ORL </td> <td>47   </td> <td>169     </td> <td>33     </td> <td>21    </td> <td>22    </td> <td>38       </td> <td>243   </td>\n",
       "        </tr>\n",
       "        <tr>\n",
       "            <td>Alex Len       </td> <td>3649920</td> <td>21  </td> <td>PHO </td> <td>69   </td> <td>454     </td> <td>32     </td> <td>34    </td> <td>105   </td> <td>74       </td> <td>432   </td>\n",
       "        </tr>\n",
       "        <tr>\n",
       "            <td>Andre Drummond </td> <td>2568360</td> <td>21  </td> <td>DET </td> <td>82   </td> <td>1104    </td> <td>55     </td> <td>73    </td> <td>153   </td> <td>120      </td> <td>1130  </td>\n",
       "        </tr>\n",
       "        <tr>\n",
       "            <td>Andrew Wiggins </td> <td>5510640</td> <td>19  </td> <td>MIN </td> <td>82   </td> <td>374     </td> <td>170    </td> <td>86    </td> <td>50    </td> <td>177      </td> <td>1387  </td>\n",
       "        </tr>\n",
       "        <tr>\n",
       "            <td>Anthony Bennett</td> <td>5563920</td> <td>21  </td> <td>MIN </td> <td>57   </td> <td>216     </td> <td>48     </td> <td>27    </td> <td>16    </td> <td>36       </td> <td>298   </td>\n",
       "        </tr>\n",
       "        <tr>\n",
       "            <td>Anthony Davis  </td> <td>5607240</td> <td>21  </td> <td>NOP </td> <td>68   </td> <td>696     </td> <td>149    </td> <td>100   </td> <td>200   </td> <td>95       </td> <td>1656  </td>\n",
       "        </tr>\n",
       "        <tr>\n",
       "            <td>Archie Goodwin </td> <td>1112280</td> <td>20  </td> <td>PHO </td> <td>41   </td> <td>74      </td> <td>44     </td> <td>18    </td> <td>9     </td> <td>48       </td> <td>231   </td>\n",
       "        </tr>\n",
       "        <tr>\n",
       "            <td>Ben McLemore   </td> <td>3026280</td> <td>21  </td> <td>SAC </td> <td>82   </td> <td>241     </td> <td>140    </td> <td>77    </td> <td>19    </td> <td>138      </td> <td>996   </td>\n",
       "        </tr>\n",
       "        <tr>\n",
       "            <td>Bradley Beal   </td> <td>4505280</td> <td>21  </td> <td>WAS </td> <td>63   </td> <td>241     </td> <td>194    </td> <td>76    </td> <td>18    </td> <td>123      </td> <td>962   </td>\n",
       "        </tr>\n",
       "        <tr>\n",
       "            <td>Bruno Caboclo  </td> <td>1458360</td> <td>19  </td> <td>TOR </td> <td>8    </td> <td>2       </td> <td>0      </td> <td>0     </td> <td>1     </td> <td>4        </td> <td>10    </td>\n",
       "        </tr>\n",
       "    </tbody>\n",
       "</table>\n",
       "<p>... (34 rows omitted)</p>"
      ],
      "text/plain": [
       "PlayerName      | Salary  | Age  | Team | Games | Rebounds | Assists | Steals | Blocks | Turnovers | Points\n",
       "Aaron Gordon    | 3992040 | 19   | ORL  | 47    | 169      | 33      | 21     | 22     | 38        | 243\n",
       "Alex Len        | 3649920 | 21   | PHO  | 69    | 454      | 32      | 34     | 105    | 74        | 432\n",
       "Andre Drummond  | 2568360 | 21   | DET  | 82    | 1104     | 55      | 73     | 153    | 120       | 1130\n",
       "Andrew Wiggins  | 5510640 | 19   | MIN  | 82    | 374      | 170     | 86     | 50     | 177       | 1387\n",
       "Anthony Bennett | 5563920 | 21   | MIN  | 57    | 216      | 48      | 27     | 16     | 36        | 298\n",
       "Anthony Davis   | 5607240 | 21   | NOP  | 68    | 696      | 149     | 100    | 200    | 95        | 1656\n",
       "Archie Goodwin  | 1112280 | 20   | PHO  | 41    | 74       | 44      | 18     | 9      | 48        | 231\n",
       "Ben McLemore    | 3026280 | 21   | SAC  | 82    | 241      | 140     | 77     | 19     | 138       | 996\n",
       "Bradley Beal    | 4505280 | 21   | WAS  | 63    | 241      | 194     | 76     | 18     | 123       | 962\n",
       "Bruno Caboclo   | 1458360 | 19   | TOR  | 8     | 2        | 0       | 0      | 1      | 4         | 10\n",
       "... (34 rows omitted)"
      ]
     },
     "execution_count": 22,
     "metadata": {},
     "output_type": "execute_result"
    }
   ],
   "source": [
    "convenience_sample = full_data.where(\"Age\", are.below(22))\n",
    "convenience_sample"
   ]
  },
  {
   "cell_type": "markdown",
   "metadata": {},
   "source": [
    "### You can generate basic statistics (e.g., min value, max value, medium, sum) for each column using .stats() of Table."
   ]
  },
  {
   "cell_type": "code",
   "execution_count": 23,
   "metadata": {
    "deletable": false
   },
   "outputs": [
    {
     "data": {
      "text/html": [
       "<table border=\"1\" class=\"dataframe\">\n",
       "    <thead>\n",
       "        <tr>\n",
       "            <th>statistic</th> <th>PlayerName</th> <th>Salary</th> <th>Age</th> <th>Team</th> <th>Games</th> <th>Rebounds</th> <th>Assists</th> <th>Steals</th> <th>Blocks</th> <th>Turnovers</th> <th>Points</th>\n",
       "        </tr>\n",
       "    </thead>\n",
       "    <tbody>\n",
       "        <tr>\n",
       "            <td>min      </td> <td>A.J. Price  </td> <td>14409      </td> <td>19   </td> <td>ATL </td> <td>1    </td> <td>0       </td> <td>0      </td> <td>0     </td> <td>0     </td> <td>0        </td> <td>0     </td>\n",
       "        </tr>\n",
       "        <tr>\n",
       "            <td>max      </td> <td>Zoran Dragic</td> <td>2.35e+07   </td> <td>38   </td> <td>WAS </td> <td>83   </td> <td>1226    </td> <td>838    </td> <td>163   </td> <td>200   </td> <td>321      </td> <td>2217  </td>\n",
       "        </tr>\n",
       "        <tr>\n",
       "            <td>median   </td> <td>            </td> <td>2.34926e+06</td> <td>26   </td> <td>    </td> <td>61   </td> <td>176     </td> <td>69.5   </td> <td>32    </td> <td>14    </td> <td>55.5     </td> <td>420.5 </td>\n",
       "        </tr>\n",
       "        <tr>\n",
       "            <td>sum      </td> <td>            </td> <td>2.10073e+09</td> <td>13056</td> <td>    </td> <td>25981</td> <td>106504  </td> <td>54202  </td> <td>19031 </td> <td>11797 </td> <td>33725    </td> <td>246035</td>\n",
       "        </tr>\n",
       "    </tbody>\n",
       "</table>"
      ],
      "text/plain": [
       "statistic | PlayerName   | Salary      | Age   | Team | Games | Rebounds | Assists | Steals | Blocks | Turnovers | Points\n",
       "min       | A.J. Price   | 14409       | 19    | ATL  | 1     | 0        | 0       | 0      | 0      | 0         | 0\n",
       "max       | Zoran Dragic | 2.35e+07    | 38    | WAS  | 83    | 1226     | 838     | 163    | 200    | 321       | 2217\n",
       "median    |              | 2.34926e+06 | 26    |      | 61    | 176      | 69.5    | 32     | 14     | 55.5      | 420.5\n",
       "sum       |              | 2.10073e+09 | 13056 |      | 25981 | 106504   | 54202   | 19031  | 11797  | 33725     | 246035"
      ]
     },
     "execution_count": 23,
     "metadata": {},
     "output_type": "execute_result"
    }
   ],
   "source": [
    "full_data.stats()"
   ]
  },
  {
   "cell_type": "markdown",
   "metadata": {},
   "source": [
    "### Exercise 2\n",
    "Comput the statistical information of the players generated by the convenience sample.  Compare the statistical information of Salary between the entire population with those generated from convenient sample.  Write your answer in the text cell after the next code cell (which starts with \"Answer to Exercise 2\")"
   ]
  },
  {
   "cell_type": "code",
   "execution_count": 39,
   "metadata": {},
   "outputs": [
    {
     "data": {
      "text/html": [
       "<table border=\"1\" class=\"dataframe\">\n",
       "    <thead>\n",
       "        <tr>\n",
       "            <th>statistic</th> <th>PlayerName</th> <th>Salary</th> <th>Age</th> <th>Team</th> <th>Games</th> <th>Rebounds</th> <th>Assists</th> <th>Steals</th> <th>Blocks</th> <th>Turnovers</th> <th>Points</th>\n",
       "        </tr>\n",
       "    </thead>\n",
       "    <tbody>\n",
       "        <tr>\n",
       "            <td>min      </td> <td>Aaron Gordon</td> <td>507336     </td> <td>19  </td> <td>ATL </td> <td>1    </td> <td>0       </td> <td>0      </td> <td>0     </td> <td>0     </td> <td>1        </td> <td>2     </td>\n",
       "        </tr>\n",
       "        <tr>\n",
       "            <td>max      </td> <td>Zach LaVine </td> <td>5.60724e+06</td> <td>21  </td> <td>WAS </td> <td>82   </td> <td>1104    </td> <td>533    </td> <td>142   </td> <td>200   </td> <td>203      </td> <td>1656  </td>\n",
       "        </tr>\n",
       "        <tr>\n",
       "            <td>median   </td> <td>            </td> <td>1.92048e+06</td> <td>21  </td> <td>    </td> <td>56   </td> <td>150.5   </td> <td>60     </td> <td>33    </td> <td>12    </td> <td>50       </td> <td>352.5 </td>\n",
       "        </tr>\n",
       "        <tr>\n",
       "            <td>sum      </td> <td>            </td> <td>1.04875e+08</td> <td>896 </td> <td>    </td> <td>2280 </td> <td>9288    </td> <td>3993   </td> <td>1792  </td> <td>1403  </td> <td>3069     </td> <td>19425 </td>\n",
       "        </tr>\n",
       "    </tbody>\n",
       "</table>"
      ],
      "text/plain": [
       "statistic | PlayerName   | Salary      | Age  | Team | Games | Rebounds | Assists | Steals | Blocks | Turnovers | Points\n",
       "min       | Aaron Gordon | 507336      | 19   | ATL  | 1     | 0        | 0       | 0      | 0      | 1         | 2\n",
       "max       | Zach LaVine  | 5.60724e+06 | 21   | WAS  | 82    | 1104     | 533     | 142    | 200    | 203       | 1656\n",
       "median    |              | 1.92048e+06 | 21   |      | 56    | 150.5    | 60      | 33     | 12     | 50        | 352.5\n",
       "sum       |              | 1.04875e+08 | 896  |      | 2280  | 9288     | 3993    | 1792   | 1403   | 3069      | 19425"
      ]
     },
     "execution_count": 39,
     "metadata": {},
     "output_type": "execute_result"
    }
   ],
   "source": [
    "convenience_sample.stats()"
   ]
  },
  {
   "cell_type": "markdown",
   "metadata": {
    "deletable": false
   },
   "source": []
  },
  {
   "cell_type": "markdown",
   "metadata": {},
   "source": [
    "Next, we'll compare the convenience sample salaries with the full data salaries in a single histogram. To do that, we'll need to use the `bin_column` option of the `hist` method, which indicates that all columns are counts of the bins in a particular column. The following cell does not require any changes; **just run it**."
   ]
  },
  {
   "cell_type": "code",
   "execution_count": 26,
   "metadata": {},
   "outputs": [
    {
     "data": {
      "image/png": "[encoded data removed]",
      "text/plain": [
       "<Figure size 432x288 with 1 Axes>"
      ]
     },
     "metadata": {},
     "output_type": "display_data"
    }
   ],
   "source": [
    "def compare_salaries(first, second, first_title, second_title):\n",
    "    \"\"\"Compare the salaries in two tables.\"\"\"\n",
    "    first_salary_in_millions = first.column('Salary')/1000000\n",
    "    second_salary_in_millions = second.column('Salary')/1000000\n",
    "    first_tbl_millions = first.drop('Salary').with_column('Salary', first_salary_in_millions)\n",
    "    second_tbl_millions = second.drop('Salary').with_column('Salary', second_salary_in_millions)\n",
    "    max_salary = max(np.append(first_tbl_millions.column('Salary'), second_tbl_millions.column('Salary')))\n",
    "    bins = np.arange(0, max_salary+1, 1)\n",
    "    first_binned = first_tbl_millions.bin('Salary', bins=bins).relabeled(1, first_title)\n",
    "    second_binned = second_tbl_millions.bin('Salary', bins=bins).relabeled(1, second_title)\n",
    "    first_binned.join('bin', second_binned).hist(bin_column='bin', unit='million dollars')\n",
    "    plt.title('Salaries for all players and convenience sample')\n",
    "\n",
    "compare_salaries(full_data, convenience_sample, 'All Players', 'Convenience Sample')"
   ]
  },
  {
   "cell_type": "markdown",
   "metadata": {},
   "source": [
    "### Exercise 3.\n",
    "Does the convenience sample give us an accurate picture of the salary of the full population? Would you expect it to, in general?  Before you move on, write a short answer in English below.  You can refer to the statistics calculated above or perform your own analysis."
   ]
  },
  {
   "cell_type": "markdown",
   "metadata": {
    "deletable": false,
    "manual_problem_id": "convenience_3_5"
   },
   "source": [
    "### Your answer for Exercise 3: \n",
    "The convenience sample does not give us an accurate picture of the salary of the full population because in most cases the samples have some sort of bias. The convenience sample does not extend over 5 million dollars, where as in reality, many players make over 5 million."
   ]
  },
  {
   "cell_type": "markdown",
   "metadata": {},
   "source": [
    "### Simple random sampling\n",
    "A more justifiable approach is to sample uniformly at random from the players.  In a **simple random sample (SRS) without replacement**, we ensure that each player is selected at most once. Imagine writing down each player's name on a card, putting the cards in an box, and shuffling the box.  Then, pull out cards one by one and set them aside, stopping when the specified sample size is reached."
   ]
  },
  {
   "cell_type": "markdown",
   "metadata": {},
   "source": [
    "## Size of Random Sampling \n",
    "Sometimes, it’s useful to take random samples even when we have the data for the whole population. It helps us understand sampling accuracy.\n",
    "\n",
    "### `sample`\n",
    "\n",
    "The table method `sample` produces a random sample from the table. By default, it draws at random *with replacement* from the rows of a table. It takes in the sample size as its argument and returns a *table* with only the rows that were selected. The optional argument `with_replacement=True` specifies that the sample should be drawn without replacement.\n",
    "\n",
    "Run the cell below to see an example call."
   ]
  },
  {
   "cell_type": "code",
   "execution_count": 28,
   "metadata": {},
   "outputs": [],
   "source": [
    "# Just run this cell\n",
    "\n",
    "tiny_sample=full_data.sample(20, with_replacement=True)"
   ]
  },
  {
   "cell_type": "code",
   "execution_count": 29,
   "metadata": {},
   "outputs": [
    {
     "data": {
      "text/html": [
       "<table border=\"1\" class=\"dataframe\">\n",
       "    <thead>\n",
       "        <tr>\n",
       "            <th>statistic</th> <th>PlayerName</th> <th>Salary</th> <th>Age</th> <th>Team</th> <th>Games</th> <th>Rebounds</th> <th>Assists</th> <th>Steals</th> <th>Blocks</th> <th>Turnovers</th> <th>Points</th>\n",
       "        </tr>\n",
       "    </thead>\n",
       "    <tbody>\n",
       "        <tr>\n",
       "            <td>min      </td> <td>Anderson Varejao</td> <td>50734      </td> <td>19  </td> <td>BRK </td> <td>11   </td> <td>7       </td> <td>1      </td> <td>3     </td> <td>0     </td> <td>3        </td> <td>27    </td>\n",
       "        </tr>\n",
       "        <tr>\n",
       "            <td>max      </td> <td>Zach Randolph   </td> <td>1.65e+07   </td> <td>34  </td> <td>UTA </td> <td>81   </td> <td>919     </td> <td>288    </td> <td>69    </td> <td>147   </td> <td>158      </td> <td>1446  </td>\n",
       "        </tr>\n",
       "        <tr>\n",
       "            <td>median   </td> <td>                </td> <td>1.22413e+06</td> <td>25  </td> <td>    </td> <td>47.5 </td> <td>135.5   </td> <td>40.5   </td> <td>26    </td> <td>5     </td> <td>41.5     </td> <td>307.5 </td>\n",
       "        </tr>\n",
       "        <tr>\n",
       "            <td>sum      </td> <td>                </td> <td>8.0222e+07 </td> <td>530 </td> <td>    </td> <td>924  </td> <td>4684    </td> <td>1666   </td> <td>525   </td> <td>602   </td> <td>1194     </td> <td>9555  </td>\n",
       "        </tr>\n",
       "    </tbody>\n",
       "</table>"
      ],
      "text/plain": [
       "statistic | PlayerName       | Salary      | Age  | Team | Games | Rebounds | Assists | Steals | Blocks | Turnovers | Points\n",
       "min       | Anderson Varejao | 50734       | 19   | BRK  | 11    | 7        | 1       | 3      | 0      | 3         | 27\n",
       "max       | Zach Randolph    | 1.65e+07    | 34   | UTA  | 81    | 919      | 288     | 69     | 147    | 158       | 1446\n",
       "median    |                  | 1.22413e+06 | 25   |      | 47.5  | 135.5    | 40.5    | 26     | 5      | 41.5      | 307.5\n",
       "sum       |                  | 8.0222e+07  | 530  |      | 924   | 4684     | 1666    | 525    | 602    | 1194      | 9555"
      ]
     },
     "execution_count": 29,
     "metadata": {},
     "output_type": "execute_result"
    }
   ],
   "source": [
    "tiny_sample.stats()"
   ]
  },
  {
   "cell_type": "markdown",
   "metadata": {},
   "source": [
    "### Exercise 4\n",
    "Produce a simple random sample of size 44 from `full_data`. Run your analysis on it again.  Run the cell a few times to see how the statistics change across different samples.\n",
    "\n",
    "- How much does the median salary change across samples? \n",
    "- How much does the median salary of the sample differ from the median salary of the whole population?"
   ]
  },
  {
   "cell_type": "code",
   "execution_count": 31,
   "metadata": {
    "scrolled": false
   },
   "outputs": [
    {
     "data": {
      "text/html": [
       "<table border=\"1\" class=\"dataframe\">\n",
       "    <thead>\n",
       "        <tr>\n",
       "            <th>PlayerName</th> <th>Salary</th> <th>Age</th> <th>Team</th> <th>Games</th> <th>Rebounds</th> <th>Assists</th> <th>Steals</th> <th>Blocks</th> <th>Turnovers</th> <th>Points</th>\n",
       "        </tr>\n",
       "    </thead>\n",
       "    <tbody>\n",
       "        <tr>\n",
       "            <td>DeMarcus Cousins</td> <td>14746000</td> <td>24  </td> <td>SAC </td> <td>59   </td> <td>747     </td> <td>210    </td> <td>90    </td> <td>103   </td> <td>254      </td> <td>1421  </td>\n",
       "        </tr>\n",
       "        <tr>\n",
       "            <td>Bruno Caboclo   </td> <td>1458360 </td> <td>19  </td> <td>TOR </td> <td>8    </td> <td>2       </td> <td>0      </td> <td>0     </td> <td>1     </td> <td>4        </td> <td>10    </td>\n",
       "        </tr>\n",
       "        <tr>\n",
       "            <td>A.J. Price      </td> <td>62552   </td> <td>28  </td> <td>TOT </td> <td>26   </td> <td>32      </td> <td>46     </td> <td>7     </td> <td>0     </td> <td>14       </td> <td>133   </td>\n",
       "        </tr>\n",
       "        <tr>\n",
       "            <td>Mitch McGary    </td> <td>1400040 </td> <td>22  </td> <td>OKC </td> <td>32   </td> <td>165     </td> <td>14     </td> <td>16    </td> <td>16    </td> <td>31       </td> <td>201   </td>\n",
       "        </tr>\n",
       "        <tr>\n",
       "            <td>Otto Porter     </td> <td>4470480 </td> <td>21  </td> <td>WAS </td> <td>74   </td> <td>221     </td> <td>65     </td> <td>44    </td> <td>30    </td> <td>52       </td> <td>445   </td>\n",
       "        </tr>\n",
       "        <tr>\n",
       "            <td>Bruno Caboclo   </td> <td>1458360 </td> <td>19  </td> <td>TOR </td> <td>8    </td> <td>2       </td> <td>0      </td> <td>0     </td> <td>1     </td> <td>4        </td> <td>10    </td>\n",
       "        </tr>\n",
       "        <tr>\n",
       "            <td>Joakim Noah     </td> <td>12700000</td> <td>29  </td> <td>CHI </td> <td>67   </td> <td>646     </td> <td>312    </td> <td>48    </td> <td>74    </td> <td>123      </td> <td>485   </td>\n",
       "        </tr>\n",
       "        <tr>\n",
       "            <td>Solomon Hill    </td> <td>1302840 </td> <td>23  </td> <td>IND </td> <td>82   </td> <td>314     </td> <td>184    </td> <td>66    </td> <td>18    </td> <td>115      </td> <td>729   </td>\n",
       "        </tr>\n",
       "        <tr>\n",
       "            <td>Cameron Bairstow</td> <td>507336  </td> <td>24  </td> <td>CHI </td> <td>18   </td> <td>8       </td> <td>1      </td> <td>2     </td> <td>1     </td> <td>3        </td> <td>10    </td>\n",
       "        </tr>\n",
       "        <tr>\n",
       "            <td>Zaza Pachulia   </td> <td>5200000 </td> <td>30  </td> <td>MIL </td> <td>73   </td> <td>500     </td> <td>178    </td> <td>80    </td> <td>21    </td> <td>133      </td> <td>606   </td>\n",
       "        </tr>\n",
       "    </tbody>\n",
       "</table>\n",
       "<p>... (34 rows omitted)</p>"
      ],
      "text/plain": [
       "PlayerName       | Salary   | Age  | Team | Games | Rebounds | Assists | Steals | Blocks | Turnovers | Points\n",
       "DeMarcus Cousins | 14746000 | 24   | SAC  | 59    | 747      | 210     | 90     | 103    | 254       | 1421\n",
       "Bruno Caboclo    | 1458360  | 19   | TOR  | 8     | 2        | 0       | 0      | 1      | 4         | 10\n",
       "A.J. Price       | 62552    | 28   | TOT  | 26    | 32       | 46      | 7      | 0      | 14        | 133\n",
       "Mitch McGary     | 1400040  | 22   | OKC  | 32    | 165      | 14      | 16     | 16     | 31        | 201\n",
       "Otto Porter      | 4470480  | 21   | WAS  | 74    | 221      | 65      | 44     | 30     | 52        | 445\n",
       "Bruno Caboclo    | 1458360  | 19   | TOR  | 8     | 2        | 0       | 0      | 1      | 4         | 10\n",
       "Joakim Noah      | 12700000 | 29   | CHI  | 67    | 646      | 312     | 48     | 74     | 123       | 485\n",
       "Solomon Hill     | 1302840  | 23   | IND  | 82    | 314      | 184     | 66     | 18     | 115       | 729\n",
       "Cameron Bairstow | 507336   | 24   | CHI  | 18    | 8        | 1       | 2      | 1      | 3         | 10\n",
       "Zaza Pachulia    | 5200000  | 30   | MIL  | 73    | 500      | 178     | 80     | 21     | 133       | 606\n",
       "... (34 rows omitted)"
      ]
     },
     "execution_count": 31,
     "metadata": {},
     "output_type": "execute_result"
    }
   ],
   "source": [
    "my_small_srswor_data = full_data.sample(44, with_replacement=True)\n",
    "my_small_srswor_data"
   ]
  },
  {
   "cell_type": "code",
   "execution_count": 32,
   "metadata": {},
   "outputs": [
    {
     "data": {
      "text/html": [
       "<table border=\"1\" class=\"dataframe\">\n",
       "    <thead>\n",
       "        <tr>\n",
       "            <th>statistic</th> <th>PlayerName</th> <th>Salary</th> <th>Age</th> <th>Team</th> <th>Games</th> <th>Rebounds</th> <th>Assists</th> <th>Steals</th> <th>Blocks</th> <th>Turnovers</th> <th>Points</th>\n",
       "        </tr>\n",
       "    </thead>\n",
       "    <tbody>\n",
       "        <tr>\n",
       "            <td>min      </td> <td>A.J. Price   </td> <td>62552      </td> <td>19  </td> <td>ATL </td> <td>5    </td> <td>1       </td> <td>0      </td> <td>0     </td> <td>0     </td> <td>0        </td> <td>4     </td>\n",
       "        </tr>\n",
       "        <tr>\n",
       "            <td>max      </td> <td>Zaza Pachulia</td> <td>2.00686e+07</td> <td>32  </td> <td>WAS </td> <td>83   </td> <td>747     </td> <td>838    </td> <td>156   </td> <td>116   </td> <td>254      </td> <td>1564  </td>\n",
       "        </tr>\n",
       "        <tr>\n",
       "            <td>median   </td> <td>             </td> <td>1.45836e+06</td> <td>26.5</td> <td>    </td> <td>47   </td> <td>165     </td> <td>44     </td> <td>18.5  </td> <td>14    </td> <td>48.5     </td> <td>321   </td>\n",
       "        </tr>\n",
       "        <tr>\n",
       "            <td>sum      </td> <td>             </td> <td>1.88135e+08</td> <td>1127</td> <td>    </td> <td>2046 </td> <td>9186    </td> <td>5547   </td> <td>1577  </td> <td>998   </td> <td>2925     </td> <td>18981 </td>\n",
       "        </tr>\n",
       "    </tbody>\n",
       "</table>"
      ],
      "text/plain": [
       "statistic | PlayerName    | Salary      | Age  | Team | Games | Rebounds | Assists | Steals | Blocks | Turnovers | Points\n",
       "min       | A.J. Price    | 62552       | 19   | ATL  | 5     | 1        | 0       | 0      | 0      | 0         | 4\n",
       "max       | Zaza Pachulia | 2.00686e+07 | 32   | WAS  | 83    | 747      | 838     | 156    | 116    | 254       | 1564\n",
       "median    |               | 1.45836e+06 | 26.5 |      | 47    | 165      | 44      | 18.5   | 14     | 48.5      | 321\n",
       "sum       |               | 1.88135e+08 | 1127 |      | 2046  | 9186     | 5547    | 1577   | 998    | 2925      | 18981"
      ]
     },
     "execution_count": 32,
     "metadata": {},
     "output_type": "execute_result"
    }
   ],
   "source": [
    "my_small_srswor_data.stats()"
   ]
  },
  {
   "cell_type": "code",
   "execution_count": 33,
   "metadata": {},
   "outputs": [
    {
     "data": {
      "text/html": [
       "<table border=\"1\" class=\"dataframe\">\n",
       "    <thead>\n",
       "        <tr>\n",
       "            <th>statistic</th> <th>PlayerName</th> <th>Salary</th> <th>Age</th> <th>Team</th> <th>Games</th> <th>Rebounds</th> <th>Assists</th> <th>Steals</th> <th>Blocks</th> <th>Turnovers</th> <th>Points</th>\n",
       "        </tr>\n",
       "    </thead>\n",
       "    <tbody>\n",
       "        <tr>\n",
       "            <td>min      </td> <td>A.J. Price  </td> <td>14409      </td> <td>19   </td> <td>ATL </td> <td>1    </td> <td>0       </td> <td>0      </td> <td>0     </td> <td>0     </td> <td>0        </td> <td>0     </td>\n",
       "        </tr>\n",
       "        <tr>\n",
       "            <td>max      </td> <td>Zoran Dragic</td> <td>2.35e+07   </td> <td>38   </td> <td>WAS </td> <td>83   </td> <td>1226    </td> <td>838    </td> <td>163   </td> <td>200   </td> <td>321      </td> <td>2217  </td>\n",
       "        </tr>\n",
       "        <tr>\n",
       "            <td>median   </td> <td>            </td> <td>2.34926e+06</td> <td>26   </td> <td>    </td> <td>61   </td> <td>176     </td> <td>69.5   </td> <td>32    </td> <td>14    </td> <td>55.5     </td> <td>420.5 </td>\n",
       "        </tr>\n",
       "        <tr>\n",
       "            <td>sum      </td> <td>            </td> <td>2.10073e+09</td> <td>13056</td> <td>    </td> <td>25981</td> <td>106504  </td> <td>54202  </td> <td>19031 </td> <td>11797 </td> <td>33725    </td> <td>246035</td>\n",
       "        </tr>\n",
       "    </tbody>\n",
       "</table>"
      ],
      "text/plain": [
       "statistic | PlayerName   | Salary      | Age   | Team | Games | Rebounds | Assists | Steals | Blocks | Turnovers | Points\n",
       "min       | A.J. Price   | 14409       | 19    | ATL  | 1     | 0        | 0       | 0      | 0      | 0         | 0\n",
       "max       | Zoran Dragic | 2.35e+07    | 38    | WAS  | 83    | 1226     | 838     | 163    | 200    | 321       | 2217\n",
       "median    |              | 2.34926e+06 | 26    |      | 61    | 176      | 69.5    | 32     | 14     | 55.5      | 420.5\n",
       "sum       |              | 2.10073e+09 | 13056 |      | 25981 | 106504   | 54202   | 19031  | 11797  | 33725     | 246035"
      ]
     },
     "execution_count": 33,
     "metadata": {},
     "output_type": "execute_result"
    }
   ],
   "source": [
    "full_data.stats()"
   ]
  },
  {
   "cell_type": "markdown",
   "metadata": {
    "deletable": false,
    "manual_problem_id": "q_3_7_samples"
   },
   "source": [
    "### Answer to Exercise 4: \n",
    "The median salaries are mostly pretty similar. The median salaries are smaller than the entire population."
   ]
  },
  {
   "cell_type": "markdown",
   "metadata": {},
   "source": [
    "### Exercise 5\n",
    "As in the previous question, analyze several simple random samples of size 100 from `full_data`.  \n",
    "- Do the histogram shapes seem to change more or less across samples of 100 than across samples of size 44? \n",
    "- How does the sample median salary and histograms of the larger sample compare to the median salary and histogram of the entire population?\n",
    "- Is there a relationship between the size of a sample of the deviation of the sample's median salary from the median of the entire population?"
   ]
  },
  {
   "cell_type": "code",
   "execution_count": 46,
   "metadata": {},
   "outputs": [
    {
     "data": {
      "image/png": "[encoded data removed]",
      "text/plain": [
       "<Figure size 432x288 with 1 Axes>"
      ]
     },
     "metadata": {},
     "output_type": "display_data"
    }
   ],
   "source": [
    "compare_salaries(full_data, my_large_srswor_data, 'All Players', 'my_large_srswor_data')"
   ]
  },
  {
   "cell_type": "code",
   "execution_count": 44,
   "metadata": {
    "scrolled": false
   },
   "outputs": [
    {
     "data": {
      "text/html": [
       "<table border=\"1\" class=\"dataframe\">\n",
       "    <thead>\n",
       "        <tr>\n",
       "            <th>PlayerName</th> <th>Salary</th> <th>Age</th> <th>Team</th> <th>Games</th> <th>Rebounds</th> <th>Assists</th> <th>Steals</th> <th>Blocks</th> <th>Turnovers</th> <th>Points</th>\n",
       "        </tr>\n",
       "    </thead>\n",
       "    <tbody>\n",
       "        <tr>\n",
       "            <td>J.J. Redick      </td> <td>6792500</td> <td>30  </td> <td>LAC </td> <td>78   </td> <td>167     </td> <td>137    </td> <td>39    </td> <td>8     </td> <td>95       </td> <td>1277  </td>\n",
       "        </tr>\n",
       "        <tr>\n",
       "            <td>Garrett Temple   </td> <td>981084 </td> <td>28  </td> <td>WAS </td> <td>52   </td> <td>90      </td> <td>56     </td> <td>42    </td> <td>9     </td> <td>34       </td> <td>204   </td>\n",
       "        </tr>\n",
       "        <tr>\n",
       "            <td>Patrick Mills    </td> <td>3842105</td> <td>26  </td> <td>SAS </td> <td>51   </td> <td>75      </td> <td>87     </td> <td>28    </td> <td>2     </td> <td>35       </td> <td>351   </td>\n",
       "        </tr>\n",
       "        <tr>\n",
       "            <td>Greg Monroe      </td> <td>5479934</td> <td>24  </td> <td>DET </td> <td>69   </td> <td>704     </td> <td>142    </td> <td>78    </td> <td>34    </td> <td>149      </td> <td>1098  </td>\n",
       "        </tr>\n",
       "        <tr>\n",
       "            <td>Donald Sloan     </td> <td>948163 </td> <td>27  </td> <td>IND </td> <td>53   </td> <td>143     </td> <td>190    </td> <td>23    </td> <td>0     </td> <td>65       </td> <td>391   </td>\n",
       "        </tr>\n",
       "        <tr>\n",
       "            <td>Joffrey Lauvergne</td> <td>1790281</td> <td>23  </td> <td>DEN </td> <td>24   </td> <td>77      </td> <td>13     </td> <td>8     </td> <td>10    </td> <td>22       </td> <td>93    </td>\n",
       "        </tr>\n",
       "        <tr>\n",
       "            <td>Larry Drew       </td> <td>507336 </td> <td>24  </td> <td>PHI </td> <td>12   </td> <td>15      </td> <td>45     </td> <td>6     </td> <td>0     </td> <td>25       </td> <td>46    </td>\n",
       "        </tr>\n",
       "        <tr>\n",
       "            <td>Chris Andersen   </td> <td>5375000</td> <td>36  </td> <td>MIA </td> <td>60   </td> <td>299     </td> <td>43     </td> <td>26    </td> <td>61    </td> <td>40       </td> <td>320   </td>\n",
       "        </tr>\n",
       "        <tr>\n",
       "            <td>Henry Sims       </td> <td>915243 </td> <td>24  </td> <td>PHI </td> <td>73   </td> <td>359     </td> <td>79     </td> <td>39    </td> <td>30    </td> <td>99       </td> <td>586   </td>\n",
       "        </tr>\n",
       "        <tr>\n",
       "            <td>Tyler Hansbrough </td> <td>3326235</td> <td>29  </td> <td>TOR </td> <td>74   </td> <td>265     </td> <td>21     </td> <td>30    </td> <td>15    </td> <td>20       </td> <td>270   </td>\n",
       "        </tr>\n",
       "    </tbody>\n",
       "</table>\n",
       "<p>... (90 rows omitted)</p>"
      ],
      "text/plain": [
       "PlayerName        | Salary  | Age  | Team | Games | Rebounds | Assists | Steals | Blocks | Turnovers | Points\n",
       "J.J. Redick       | 6792500 | 30   | LAC  | 78    | 167      | 137     | 39     | 8      | 95        | 1277\n",
       "Garrett Temple    | 981084  | 28   | WAS  | 52    | 90       | 56      | 42     | 9      | 34        | 204\n",
       "Patrick Mills     | 3842105 | 26   | SAS  | 51    | 75       | 87      | 28     | 2      | 35        | 351\n",
       "Greg Monroe       | 5479934 | 24   | DET  | 69    | 704      | 142     | 78     | 34     | 149       | 1098\n",
       "Donald Sloan      | 948163  | 27   | IND  | 53    | 143      | 190     | 23     | 0      | 65        | 391\n",
       "Joffrey Lauvergne | 1790281 | 23   | DEN  | 24    | 77       | 13      | 8      | 10     | 22        | 93\n",
       "Larry Drew        | 507336  | 24   | PHI  | 12    | 15       | 45      | 6      | 0      | 25        | 46\n",
       "Chris Andersen    | 5375000 | 36   | MIA  | 60    | 299      | 43      | 26     | 61     | 40        | 320\n",
       "Henry Sims        | 915243  | 24   | PHI  | 73    | 359      | 79      | 39     | 30     | 99        | 586\n",
       "Tyler Hansbrough  | 3326235 | 29   | TOR  | 74    | 265      | 21      | 30     | 15     | 20        | 270\n",
       "... (90 rows omitted)"
      ]
     },
     "execution_count": 44,
     "metadata": {},
     "output_type": "execute_result"
    }
   ],
   "source": [
    "my_large_srswor_data = full_data.sample(100, with_replacement=True)\n",
    "my_large_srswor_data\n"
   ]
  },
  {
   "cell_type": "markdown",
   "metadata": {
    "deletable": false,
    "manual_problem_id": "large_srs_q"
   },
   "source": [
    "### Answer to Exercise 5:\n",
    "The histogram seems to change less with a sample size of 100 compared to a sample size of 44. The sample median salary of the larger sample seem to be larger than the histogram of the entire population. There is a relationship between the deviation of the sample and the deviation of the full population because the histograms show that the salaries are similar"
   ]
  },
  {
   "cell_type": "markdown",
   "metadata": {},
   "source": [
    "Congratulations, you're done with Lab 4!  Be sure to \n",
    "- **Save and Checkpoint your notebook** from the `File` menu. \n",
    "- **Download the notebook in two formats: .ipynb and .pdf.\n",
    "- **Submit both files to Canvas as Lab 4 Assignment."
   ]
  },
  {
   "cell_type": "code",
   "execution_count": null,
   "metadata": {},
   "outputs": [],
   "source": []
  }
 ],
 "metadata": {
  "anaconda-cloud": {},
  "celltoolbar": "Raw Cell Format",
  "kernelspec": {
   "display_name": "Python 3",
   "language": "python",
   "name": "python3"
  },
  "language_info": {
   "codemirror_mode": {
    "name": "ipython",
    "version": 3
   },
   "file_extension": ".py",
   "mimetype": "text/x-python",
   "name": "python",
   "nbconvert_exporter": "python",
   "pygments_lexer": "ipython3",
   "version": "3.7.3"
  }
 },
 "nbformat": 4,
 "nbformat_minor": 1
}
