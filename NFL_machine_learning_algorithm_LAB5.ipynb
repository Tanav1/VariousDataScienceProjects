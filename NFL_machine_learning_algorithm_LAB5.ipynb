{
  "cells": [
    {
      "metadata": {},
      "cell_type": "markdown",
      "source": "# PSU DS 200 \n# Lab 5 Train and Interpret Decision Trees Model: NFL Pass Completion Prediction\n## Learning Objectives \n\nIn this lab, you will learn to be able to do the following:\n- Learn a decision tree model for binary classification/prediction using a set of training data.\n    * The binary classification problem of this lab is predicting whether a pass by a quaterback in an NFL game completes or not.\n    * The source of the data is Kaggle, which provides a broad variety of real-world data for various competitions.\n-  You will learn to split a set of labelled data (labelled with desired prediction output, i.e., pass complete or incomplete) into two groups: (1) those data to be used to \"train\" the model, and (2) those data to be used to test how well the model can predict.\n- Evaluate how good is the model (for prediction) \n    * Predictive Models need to be evaluated using data NOT used for constructing (training) the model.\n- Interpret the model to understand the \"logic\" learned from data"
    },
    {
      "metadata": {
        "trusted": true
      },
      "cell_type": "code",
      "source": "import numpy as np\nimport pandas as pd\nimport graphviz",
      "execution_count": 1,
      "outputs": []
    },
    {
      "metadata": {
        "trusted": true
      },
      "cell_type": "code",
      "source": "from sklearn.model_selection import train_test_split\nfrom sklearn.pipeline import Pipeline\nfrom sklearn import tree\nfrom sklearn.tree import DecisionTreeClassifier\nfrom sklearn import metrics\n\nimport os\nos.environ[\"PATH\"] += os.pathsep + 'C:/Program Files (x86)/Graphviz2.38/bin/'",
      "execution_count": 3,
      "outputs": []
    },
    {
      "metadata": {},
      "cell_type": "markdown",
      "source": "## Reading Data for Constructing a Predictive Model\n### Format of the Data\nData for constructing a predictive model is often stored in a \"Comma-Separated Values\" format, also commonly referred to as \"CSV\" format.  A file that stores data in CSV format uses \".csv\" as its file extension.  \n\n### Read_CSV in Panda\nThe easiest way to read a CSV file for the purpose of constructing a predictive model is to use read_csv function in Panda. The function reads data from a CSV file, and generates a table-style internal representation (called DataFrame).\n<ul>\n    <li> The first parameter of the function is the name of the csv file to be read. </li>\n\n    <li> The \"sep=\" parameter in read_csv specifieds the separator of different fields.  Because the CSV file used for this lab uses comma (i.e., \",\") as separator, the read_csv function has \"sep=\",\" as the second pamater. </li>\n    \n</ul>"
    },
    {
      "metadata": {
        "trusted": true
      },
      "cell_type": "code",
      "source": "Ben_pass= pd.read_csv('Ben-NE-9-10-2015-pass-6.csv', sep=\",\")",
      "execution_count": 10,
      "outputs": []
    },
    {
      "metadata": {},
      "cell_type": "markdown",
      "source": "### Display the Data \nThe first row of the CSV file contains the names of attributes/features for each passing play of a specific NFL game (between Pittsburgh Steelers and New England Patriots held on September 10th, 2015).  Because pass prediction model for each quaterback can be different, so this dataset is prepared for the purpose of predicting the outcome of passing play by Steeler quaterback Ben Rothlisberger. The last column of the CSV file contains the outcome of each passing play.\n\nIn general, the data for building a predictive model involves two types: \n<ol>\n    <li> The input data to the model (which we also call FEATURES), and </li>\n    <li> The DESIRED prediction output data of the model (for each corresponding input) </li>\n    </ol>\nTogether, these data are used to \"train\" the model, as we shall see later, so that the model's output,\ngiven each input, is AS CLOSE AS POSSIBLE (we will elaborate this point later) to the DESIRED output.\n\nFor example, the data for training to predict pass completion includes input data for the prediction (e.g., distance of pass, number of down, yards to go, etc), and the DESIRED output of the prediction (i.e., whether a pass plays completes or not). \n\nThe meaning of all the input attributes/features for this lab are listed below:\n<ul>\n    <li>down: The number of down for the play</li>\n    <li>ydstogo: The remaining yards needed to gain for a first down</li>\n    <li>Yards.Gained.PrevPlay: The number of yards gained in the previous play (which can be a run play or passing play}</li>\n    <li>AirYards: The distance between the starting position of the play and the receiving position of the passing play. A negative number means the quarterback moves back in the play such that the net yardage gain, if the pass completes, is negative. </li>\n    <li>PassLocation: The area of passing location: -1 means left field, 0 means center field, 1 means right field. </li>\n</ul>\n\nThe value of the desired prediction output (i.e., PassOutcome in the last column) in the dataset indicates whether the outcome of each passing play, represented by each row, is completes (i.e., having the value \"1\") or incomplete (i.e., having the value \"0\").  "
    },
    {
      "metadata": {
        "trusted": true
      },
      "cell_type": "code",
      "source": "print(Ben_pass)",
      "execution_count": 11,
      "outputs": [
        {
          "output_type": "stream",
          "text": "    down  ydstogo  Yards.Gained.PrevPlay  AirYards  PassLocation  PassOutcome\n0      1       10                     18        -4             1            1\n1      1       10                      0         9             1            1\n2      3       22                      6         1             1            1\n3      1       10                      0         7            -1            1\n4      1       10                     13         6            -1            1\n5      1       10                     12         7            -1            1\n6      1       10                      0         5             1            0\n7      2       10                      0        25             1            0\n8      3        5                     -1         6            -1            1\n9      1       15                      4        -1             1            1\n10     3       18                     -6        17            -1            1\n11     1       20                      5         5            -1            1\n12     2       11                      9         4            -1            1\n13     2       13                     -3        -2            -1            1\n14     3        6                      7         6             0            1\n15     2        7                      0        11             1            1\n16     1       10                     13        16             1            1\n17     1       10                     19         6             1            1\n18     2        8                      2         0            -1            0\n19     3        8                      0        39            -1            1\n20     3        3                      1        19             1            0\n21     1       10                      0        11             0            1\n22     2       10                      0        17            -1            1\n23     1       10                     18         7             0            1\n24     1        9                      2         4            -1            1\n25     2        6                      3         6             0            1\n26     1       10                      0         5             1            1\n27     2       15                      9         4            -1            1\n28     3        6                      9        26             1            1\n29     2        8                      2         0            -1            1\n..   ...      ...                    ...       ...           ...          ...\n40     2       15                     -5         7             0            1\n41     3        6                     -1         2            -1            1\n42     1       10                      0        25             1            1\n43     2        5                      5         2             1            1\n44     2        8                      0         1             1            1\n45     1        1                      0         1             0            0\n46     1       10                      0        18             1            1\n47     1       10                      0        27             0            0\n48     3        5                      5         4             0            1\n49     2        1                      0         1             1            0\n50     3        1                      0         1            -1            1\n51     2        3                      7         9             0            0\n52     3        3                      0         9             1            0\n53     2       12                     -2        23             1            0\n54     3       12                      0         6             0            0\n55     1       10                      0        18             1            1\n56     1       10                     18        39            -1            0\n57     2        9                      1         7            -1            1\n58     3        4                      3        -3             1            0\n59     1       10                      0        11             1            0\n60     2       10                      0         4            -1            1\n61     3        1                      9         6             0            1\n62     1       10                      0        29             0            0\n63     2       10                      0         1            -1            1\n64     3        8                      2        13             0            1\n65     2       27                     -7        14             0            1\n66     3        9                      0        12            -1            0\n67     4        9                      0        15            -1            1\n68     1       10                      0        11            -1            1\n69     1       10                     11        11            -1            1\n\n[70 rows x 6 columns]\n",
          "name": "stdout"
        }
      ]
    },
    {
      "metadata": {},
      "cell_type": "markdown",
      "source": "## Prepare Labelled Data for Model Training\nIn order to use the data to train a predictitive model, we need to extract the input data and corresponding output data from the table-like internal representation (i.e., DataFrame) generated by Panda read_csv function (and subsequentenly assigned to the variable Ben_pass).  \n\nOne easy way to do this is to use .values method (of DataFrame) to \n<ol>\n    <li> Extract values from the columns for the input data and assign it to a variable (e.g., \"X\" in the code below), and </li>\n    <li> Extract values from the column for the DESIRED output data and assigned to a different variable (e.g., \"Y\" in the code below).</li>\n</ol>\n\n### Prepare Input Data for Model Training\n\nWe want to use the following five attributes as inputs for predicting pass completion:\n<ul>\n    <li> down: The number of down for the play </li>\n    <li> ydstogo: The remaining yards needed to gain for a first down </li>\n<li> Yards.Gained.PrevPlay: The number of yards gained in the previous play (which can be a run play or passing play} </li>\n<li> AirYards: The distance between the starting position of the play and the receiving position of the passing play. A negative number means the quarterback moves back in the play such that the net yardage gain, if the pass completes, is negative. </li>\n<li>PassLocation: The area of passing location: -1 means left field, 0 means center field, 1 means right field.</li>\n    </ul>\n\nIn DataFrame, the first column is referred to as column \"0\" (rather than column 1).  Therefore, the columns of the table-like representation stored in Ben_pass are:\n<ul>\n    <li> The column\n        storing the value of \"down\" is column 0. </li>\n    <li> The column storing the value of \"ydstogo\" is column 1. </li>\n    <li> The column storing the value of \"Yards.Gained.PrevPlay\" is column 2. </li>\n    <li> The column storing the value of \"AirYards\" is column 3. </li>\n    <li> The column storing the value of \"PassLocation\" is column 4. </li>\n    <li> The column storing the value of desired model output \"PassOutcome\" is column 5. </li>\n    </ul>\n\nTo extract column 0, 1, 2, and 3 from Ben_pass (which stores the table-like representation), we use \"0:4\" to indicate a range of columns from column 0 to (but NOT including) column 4.  The method we use to extract these columns is \"values\".  The first parameter of values (colon, \":\"), indicates that we are extracting ALL Rows.  Together with the second parameter \"0:4\", the method values[:, 0:4] indicates we are extracting column 0 to column 4 for all rows of the table-like representation stored in Ben_pass.  \n\nWe store the extracted input data in a variable called X.\n\n#### Notice that we do not want to extract column 5 because it contains the desired model output, so we want to save it in a different variable to prepare for model training (which takes model input data and desired model output data separately)."
    },
    {
      "metadata": {
        "trusted": true
      },
      "cell_type": "code",
      "source": "X= Ben_pass.values[:,0:4]\nprint(X)",
      "execution_count": 12,
      "outputs": [
        {
          "output_type": "stream",
          "text": "[[ 1 10 18 -4]\n [ 1 10  0  9]\n [ 3 22  6  1]\n [ 1 10  0  7]\n [ 1 10 13  6]\n [ 1 10 12  7]\n [ 1 10  0  5]\n [ 2 10  0 25]\n [ 3  5 -1  6]\n [ 1 15  4 -1]\n [ 3 18 -6 17]\n [ 1 20  5  5]\n [ 2 11  9  4]\n [ 2 13 -3 -2]\n [ 3  6  7  6]\n [ 2  7  0 11]\n [ 1 10 13 16]\n [ 1 10 19  6]\n [ 2  8  2  0]\n [ 3  8  0 39]\n [ 3  3  1 19]\n [ 1 10  0 11]\n [ 2 10  0 17]\n [ 1 10 18  7]\n [ 1  9  2  4]\n [ 2  6  3  6]\n [ 1 10  0  5]\n [ 2 15  9  4]\n [ 3  6  9 26]\n [ 2  8  2  0]\n [ 3  3  5 23]\n [ 4  3  0  4]\n [ 2  5  5 26]\n [ 3  5  0  7]\n [ 1 10  0  4]\n [ 3  5  1  5]\n [ 2  1  9 -1]\n [ 2  1  0  0]\n [ 1 10 28 23]\n [ 1 10 13 -5]\n [ 2 15 -5  7]\n [ 3  6 -1  2]\n [ 1 10  0 25]\n [ 2  5  5  2]\n [ 2  8  0  1]\n [ 1  1  0  1]\n [ 1 10  0 18]\n [ 1 10  0 27]\n [ 3  5  5  4]\n [ 2  1  0  1]\n [ 3  1  0  1]\n [ 2  3  7  9]\n [ 3  3  0  9]\n [ 2 12 -2 23]\n [ 3 12  0  6]\n [ 1 10  0 18]\n [ 1 10 18 39]\n [ 2  9  1  7]\n [ 3  4  3 -3]\n [ 1 10  0 11]\n [ 2 10  0  4]\n [ 3  1  9  6]\n [ 1 10  0 29]\n [ 2 10  0  1]\n [ 3  8  2 13]\n [ 2 27 -7 14]\n [ 3  9  0 12]\n [ 4  9  0 15]\n [ 1 10  0 11]\n [ 1 10 11 11]]\n",
          "name": "stdout"
        }
      ]
    },
    {
      "metadata": {},
      "cell_type": "markdown",
      "source": "As we can see from the result of print (X) above, X is actually an array.\n\n### Exercise 1 (4 points)\n\nThe previous code only extract the first 4 features of each passing event. However, we want to extract all 5 input features of each passing event. Modify the code so that it extracts all 5 features of each passing event from Ben_pass.  Print the data you extract to see whether they are correct. "
    },
    {
      "metadata": {
        "trusted": true
      },
      "cell_type": "code",
      "source": "X1 = Ben_pass.values[:,0:5]\nprint(X1)",
      "execution_count": 13,
      "outputs": [
        {
          "output_type": "stream",
          "text": "[[ 1 10 18 -4  1]\n [ 1 10  0  9  1]\n [ 3 22  6  1  1]\n [ 1 10  0  7 -1]\n [ 1 10 13  6 -1]\n [ 1 10 12  7 -1]\n [ 1 10  0  5  1]\n [ 2 10  0 25  1]\n [ 3  5 -1  6 -1]\n [ 1 15  4 -1  1]\n [ 3 18 -6 17 -1]\n [ 1 20  5  5 -1]\n [ 2 11  9  4 -1]\n [ 2 13 -3 -2 -1]\n [ 3  6  7  6  0]\n [ 2  7  0 11  1]\n [ 1 10 13 16  1]\n [ 1 10 19  6  1]\n [ 2  8  2  0 -1]\n [ 3  8  0 39 -1]\n [ 3  3  1 19  1]\n [ 1 10  0 11  0]\n [ 2 10  0 17 -1]\n [ 1 10 18  7  0]\n [ 1  9  2  4 -1]\n [ 2  6  3  6  0]\n [ 1 10  0  5  1]\n [ 2 15  9  4 -1]\n [ 3  6  9 26  1]\n [ 2  8  2  0 -1]\n [ 3  3  5 23  1]\n [ 4  3  0  4  0]\n [ 2  5  5 26 -1]\n [ 3  5  0  7  0]\n [ 1 10  0  4  1]\n [ 3  5  1  5  1]\n [ 2  1  9 -1 -1]\n [ 2  1  0  0 -1]\n [ 1 10 28 23 -1]\n [ 1 10 13 -5 -1]\n [ 2 15 -5  7  0]\n [ 3  6 -1  2 -1]\n [ 1 10  0 25  1]\n [ 2  5  5  2  1]\n [ 2  8  0  1  1]\n [ 1  1  0  1  0]\n [ 1 10  0 18  1]\n [ 1 10  0 27  0]\n [ 3  5  5  4  0]\n [ 2  1  0  1  1]\n [ 3  1  0  1 -1]\n [ 2  3  7  9  0]\n [ 3  3  0  9  1]\n [ 2 12 -2 23  1]\n [ 3 12  0  6  0]\n [ 1 10  0 18  1]\n [ 1 10 18 39 -1]\n [ 2  9  1  7 -1]\n [ 3  4  3 -3  1]\n [ 1 10  0 11  1]\n [ 2 10  0  4 -1]\n [ 3  1  9  6  0]\n [ 1 10  0 29  0]\n [ 2 10  0  1 -1]\n [ 3  8  2 13  0]\n [ 2 27 -7 14  0]\n [ 3  9  0 12 -1]\n [ 4  9  0 15 -1]\n [ 1 10  0 11 -1]\n [ 1 10 11 11 -1]]\n",
          "name": "stdout"
        }
      ]
    },
    {
      "metadata": {},
      "cell_type": "markdown",
      "source": "#### Notice: The variable used in the exercise is different from X.  \nThis is important because once a variable (like X) is assigned a new value, it losts its original value.  Because we will use variable X in the rest of this lab, we do NOT want to change the value of X.  Therefore, you can use variables  such as X1 or any other variables EXCEPT X in the exercise.\n\n### Self-evaluation of Exercise 1\nHow did you do? \nI did alright. The next column shows the  the fifth feature of the passing event which is shown properly."
    },
    {
      "metadata": {},
      "cell_type": "markdown",
      "source": "### Prepare Output Data for Model Training\nTo prepare desired output data (also referred to as target output data) for model training, we extract PassOutcome, which is stored in column 5 of Ben_pass table-like representation.  Similar to the previous step, we extract this data from ALL ROWS of the Ben_pass table-like representation. \n\nWe store this output data in a variable Y."
    },
    {
      "metadata": {
        "trusted": true
      },
      "cell_type": "code",
      "source": "Y= Ben_pass.values[:,5]\nprint(Y)",
      "execution_count": 14,
      "outputs": [
        {
          "output_type": "stream",
          "text": "[1 1 1 1 1 1 0 0 1 1 1 1 1 1 1 1 1 1 0 1 0 1 1 1 1 1 1 1 1 1 0 1 0 0 1 1 1\n 1 1 1 1 1 1 1 1 0 1 0 1 0 1 0 0 0 0 1 0 1 0 0 1 1 0 1 1 1 0 1 1 1]\n",
          "name": "stdout"
        }
      ]
    },
    {
      "metadata": {},
      "cell_type": "markdown",
      "source": "As we can see from the result of print(Y), Y is a one-dimensional array.  "
    },
    {
      "metadata": {},
      "cell_type": "markdown",
      "source": "##### Train a Decision Tree from a Set of Training Data\n\n### We will use Python scikit-learn module to create a decision tree.\n### Scikit-learn offers other machine learning models beyond decision trees.\n### We do not need to install scikit-learn, because it has been pre-installed in Azure Notebooks (together with Python 3)\nScikit-learn (sklearn) is a Python module that contains many useful machine learning code, including code for constructing model from data, for creating predictive models using multiple machine learning methods (including decision tree which we will use), and for evaluating how good is the model created.  \n\n### In the beginning of this notebook, we used the following import statement to import a submodule of scikit-learn (sklearn), tree (which provides functions/methods related to decision trees)\n    from sklearn import tree\n\n### Split the Data into Training Set and Testing Set using Train_Test_Split in sklearn\nIt is important that we reserve some data to evaluate how good is the prediction capability of the model.  This means that we are NOT going to use this reserved data to train the model.  THIS IS A VERY IMPORTANT POINT and we will return to it later for a more detail look.  For now, we will focus on the workflow for constructing a predictive model.\n\nThere are multiple ways to use data to train decision tree models.  We will use train_test_split Python command from sklearn Python module. In the beginning of this lab, we have imported train_test_split from sklearn as follows:\n\n    from sklearn.model_selection import train_test_split\n\nImporting a function from a library means we can directly use this function after the import.\n\nTrain_test_split has four parameters:\n<ol>\n    <li> The first paraemter is all of the model's input data. We have prepared variable X1 to be used here. </li>\n    <li> The second parameter is all of the model's target output data.  We have prepared variable Y to be used here. </li>\n    <li> The third parameter (test_size) is the percentage of the data (both model input and output) to be RESERVED for testing.  We use 25% here, and will revisit this topic later. </li>\n    <li> The fourth paraemter (randome_state) is a random number to be used to randomly split the model's input and output data (i.e., the data stored in variable X and variable Y) into two subgroups: a Training Set and a Testing Set.\n    </ol>\n\nThe output of the train_test_split function includes four inter-related results:\n<ol>\n    <li> The Model Input Data (features) used for Training: We store this in the variable X_train </li>\n    <li> The Model Input Data (features) used for Testing: We store this in the variable X_test </li>\n    <li> The Model Output Data (prediction) used for Training: We store this in the variable y_train </li>\n    <li> The Model Output Data (prediction) used for Testing: We store this in the variable y_test </li>\n    \n    </ol>"
    },
    {
      "metadata": {
        "trusted": true
      },
      "cell_type": "code",
      "source": "X_train, X_test, y_train, y_test = train_test_split( X1, Y, test_size = 0.25, random_state = 100)",
      "execution_count": 15,
      "outputs": []
    },
    {
      "metadata": {
        "trusted": true
      },
      "cell_type": "code",
      "source": "print(X_test)",
      "execution_count": 16,
      "outputs": [
        {
          "output_type": "stream",
          "text": "[[ 1 10 13 -5 -1]\n [ 1 10  0  5  1]\n [ 1 10 18  7  0]\n [ 1 10 18 39 -1]\n [ 1 10 28 23 -1]\n [ 3  8  2 13  0]\n [ 1 10  0 18  1]\n [ 1 20  5  5 -1]\n [ 2  8  2  0 -1]\n [ 3  4  3 -3  1]\n [ 2 27 -7 14  0]\n [ 1 10 12  7 -1]\n [ 3  3  1 19  1]\n [ 1 10 11 11 -1]\n [ 1 10 18 -4  1]\n [ 3  6  9 26  1]\n [ 2 11  9  4 -1]\n [ 1 10  0  5  1]]\n",
          "name": "stdout"
        }
      ]
    },
    {
      "metadata": {},
      "cell_type": "markdown",
      "source": "### We also imported DecisionTreeClassifier from the tree submodule in sklearn:\n    from sklearn.tree import DecisionTreeClassifier\n\n### Using DecisionTreeClassifier to Train a Decision Tree\nThere are two steps involved in creating a decision tree using DecisionTreeClassifier.\n1. Create an \"empty\" Decision Tree Classifier by specifying the various parameters we use to construct the decision tree. Save the created empty Decision Tree Classifier in a variable (e.g., \"clf\" in the code below) for the next step. Some of the important parameters are the following:\n    * criterion: We will use 'entropy' as the criteria for creating decision trees in this class.  \n    * max_depth: This parameter specifies how \"deep\" the decision tree is allowed.  If you choose \"max_depth=3\", the tree created will be limited to 3 levels. (The root node is at level 0.) As we will see later, the choice of this parameter can affect the model's risk for overfitting.\n    * min_samples_leaf: This parameter specifies the minimum number of samples required in a leaf node. As we will see later, the choice of this parameter can also affect the model's risk for overfitting.\n2. Use a set of input training data and output training data to \"train\" the Decision Tree Classifier (previously \"empty\" one; but will have an actual Decision Tree."
    },
    {
      "metadata": {},
      "cell_type": "markdown",
      "source": "### Exercise 2 Train a Decision Tree (6 points)\nFill in the parameters of max_depth (recommended number: between 3 and 6) and \nmin_samples_leaf (recommended value: between 1 and 3) of DecisionTreeClassifier,\nthen create an \"empty\" decision tree, then using the input training data (X_train)\nand output training data (y_train) to train the model."
    },
    {
      "metadata": {
        "trusted": true
      },
      "cell_type": "code",
      "source": "clf = DecisionTreeClassifier(criterion = 'entropy', random_state = 100,\n                               max_depth=5, min_samples_leaf=2)\nclf.fit(X_train, y_train)",
      "execution_count": 17,
      "outputs": [
        {
          "output_type": "execute_result",
          "execution_count": 17,
          "data": {
            "text/plain": "DecisionTreeClassifier(class_weight=None, criterion='entropy', max_depth=5,\n            max_features=None, max_leaf_nodes=None,\n            min_impurity_decrease=0.0, min_impurity_split=None,\n            min_samples_leaf=2, min_samples_split=2,\n            min_weight_fraction_leaf=0.0, presort=False, random_state=100,\n            splitter='best')"
          },
          "metadata": {}
        }
      ]
    },
    {
      "metadata": {},
      "cell_type": "markdown",
      "source": "### Exercise 3 Visualize a Decision Tree (4 points)\nExecute the code below to visualize the decision tree. The only thing you need to fill in is the name of the 5th feature you used for input.  Replace '???' with a string of that feature name."
    },
    {
      "metadata": {
        "trusted": true
      },
      "cell_type": "code",
      "source": "dot_data= tree.export_graphviz(clf, out_file=None, feature_names=('down','ydstogo','YardsGainedPrevPlay','AirYards','PassLocation'))",
      "execution_count": 29,
      "outputs": []
    },
    {
      "metadata": {
        "trusted": true
      },
      "cell_type": "code",
      "source": "graph = graphviz.Source(dot_data)\ngraph",
      "execution_count": 30,
      "outputs": [
        {
          "output_type": "execute_result",
          "execution_count": 30,
          "data": {
            "text/plain": "<graphviz.files.Source at 0x7fc1a2abba20>",
            "image/svg+xml": "<?xml version=\"1.0\" encoding=\"UTF-8\" standalone=\"no\"?>\n<!DOCTYPE svg PUBLIC \"-//W3C//DTD SVG 1.1//EN\"\n \"http://www.w3.org/Graphics/SVG/1.1/DTD/svg11.dtd\">\n<!-- Generated by graphviz version 2.38.0 (20140413.2041)\n -->\n<!-- Title: Tree Pages: 1 -->\n<svg width=\"843pt\" height=\"581pt\"\n viewBox=\"0.00 0.00 843.00 581.00\" xmlns=\"http://www.w3.org/2000/svg\" xmlns:xlink=\"http://www.w3.org/1999/xlink\">\n<g id=\"graph0\" class=\"graph\" transform=\"scale(1 1) rotate(0) translate(4 577)\">\n<title>Tree</title>\n<polygon fill=\"white\" stroke=\"none\" points=\"-4,4 -4,-577 839,-577 839,4 -4,4\"/>\n<!-- 0 -->\n<g id=\"node1\" class=\"node\"><title>0</title>\n<polygon fill=\"none\" stroke=\"black\" points=\"466.5,-573 351.5,-573 351.5,-505 466.5,-505 466.5,-573\"/>\n<text text-anchor=\"middle\" x=\"409\" y=\"-557.8\" font-family=\"Times,serif\" font-size=\"14.00\">AirYards &lt;= 20.5</text>\n<text text-anchor=\"middle\" x=\"409\" y=\"-542.8\" font-family=\"Times,serif\" font-size=\"14.00\">entropy = 0.84</text>\n<text text-anchor=\"middle\" x=\"409\" y=\"-527.8\" font-family=\"Times,serif\" font-size=\"14.00\">samples = 52</text>\n<text text-anchor=\"middle\" x=\"409\" y=\"-512.8\" font-family=\"Times,serif\" font-size=\"14.00\">value = [14, 38]</text>\n</g>\n<!-- 1 -->\n<g id=\"node2\" class=\"node\"><title>1</title>\n<polygon fill=\"none\" stroke=\"black\" points=\"385,-469 281,-469 281,-401 385,-401 385,-469\"/>\n<text text-anchor=\"middle\" x=\"333\" y=\"-453.8\" font-family=\"Times,serif\" font-size=\"14.00\">ydstogo &lt;= 4.0</text>\n<text text-anchor=\"middle\" x=\"333\" y=\"-438.8\" font-family=\"Times,serif\" font-size=\"14.00\">entropy = 0.684</text>\n<text text-anchor=\"middle\" x=\"333\" y=\"-423.8\" font-family=\"Times,serif\" font-size=\"14.00\">samples = 44</text>\n<text text-anchor=\"middle\" x=\"333\" y=\"-408.8\" font-family=\"Times,serif\" font-size=\"14.00\">value = [8, 36]</text>\n</g>\n<!-- 0&#45;&gt;1 -->\n<g id=\"edge1\" class=\"edge\"><title>0&#45;&gt;1</title>\n<path fill=\"none\" stroke=\"black\" d=\"M384.325,-504.884C377.821,-496.154 370.72,-486.625 363.932,-477.514\"/>\n<polygon fill=\"black\" stroke=\"black\" points=\"366.593,-475.227 357.811,-469.299 360.98,-479.409 366.593,-475.227\"/>\n<text text-anchor=\"middle\" x=\"354.198\" y=\"-490.337\" font-family=\"Times,serif\" font-size=\"14.00\">True</text>\n</g>\n<!-- 16 -->\n<g id=\"node17\" class=\"node\"><title>16</title>\n<polygon fill=\"none\" stroke=\"black\" points=\"543.5,-469 428.5,-469 428.5,-401 543.5,-401 543.5,-469\"/>\n<text text-anchor=\"middle\" x=\"486\" y=\"-453.8\" font-family=\"Times,serif\" font-size=\"14.00\">AirYards &lt;= 24.0</text>\n<text text-anchor=\"middle\" x=\"486\" y=\"-438.8\" font-family=\"Times,serif\" font-size=\"14.00\">entropy = 0.811</text>\n<text text-anchor=\"middle\" x=\"486\" y=\"-423.8\" font-family=\"Times,serif\" font-size=\"14.00\">samples = 8</text>\n<text text-anchor=\"middle\" x=\"486\" y=\"-408.8\" font-family=\"Times,serif\" font-size=\"14.00\">value = [6, 2]</text>\n</g>\n<!-- 0&#45;&gt;16 -->\n<g id=\"edge16\" class=\"edge\"><title>0&#45;&gt;16</title>\n<path fill=\"none\" stroke=\"black\" d=\"M434,-504.884C440.589,-496.154 447.783,-486.625 454.661,-477.514\"/>\n<polygon fill=\"black\" stroke=\"black\" points=\"457.631,-479.389 460.862,-469.299 452.044,-475.172 457.631,-479.389\"/>\n<text text-anchor=\"middle\" x=\"464.32\" y=\"-490.359\" font-family=\"Times,serif\" font-size=\"14.00\">False</text>\n</g>\n<!-- 2 -->\n<g id=\"node3\" class=\"node\"><title>2</title>\n<polygon fill=\"none\" stroke=\"black\" points=\"226,-365 92,-365 92,-297 226,-297 226,-365\"/>\n<text text-anchor=\"middle\" x=\"159\" y=\"-349.8\" font-family=\"Times,serif\" font-size=\"14.00\">PassLocation &lt;= &#45;0.5</text>\n<text text-anchor=\"middle\" x=\"159\" y=\"-334.8\" font-family=\"Times,serif\" font-size=\"14.00\">entropy = 0.991</text>\n<text text-anchor=\"middle\" x=\"159\" y=\"-319.8\" font-family=\"Times,serif\" font-size=\"14.00\">samples = 9</text>\n<text text-anchor=\"middle\" x=\"159\" y=\"-304.8\" font-family=\"Times,serif\" font-size=\"14.00\">value = [4, 5]</text>\n</g>\n<!-- 1&#45;&gt;2 -->\n<g id=\"edge2\" class=\"edge\"><title>1&#45;&gt;2</title>\n<path fill=\"none\" stroke=\"black\" d=\"M280.794,-403.397C262.992,-392.961 242.863,-381.161 224.172,-370.204\"/>\n<polygon fill=\"black\" stroke=\"black\" points=\"225.811,-367.108 215.414,-365.07 222.271,-373.147 225.811,-367.108\"/>\n</g>\n<!-- 7 -->\n<g id=\"node8\" class=\"node\"><title>7</title>\n<polygon fill=\"none\" stroke=\"black\" points=\"422,-365 244,-365 244,-297 422,-297 422,-365\"/>\n<text text-anchor=\"middle\" x=\"333\" y=\"-349.8\" font-family=\"Times,serif\" font-size=\"14.00\">YardsGainedPrevPlay &lt;= 0.5</text>\n<text text-anchor=\"middle\" x=\"333\" y=\"-334.8\" font-family=\"Times,serif\" font-size=\"14.00\">entropy = 0.513</text>\n<text text-anchor=\"middle\" x=\"333\" y=\"-319.8\" font-family=\"Times,serif\" font-size=\"14.00\">samples = 35</text>\n<text text-anchor=\"middle\" x=\"333\" y=\"-304.8\" font-family=\"Times,serif\" font-size=\"14.00\">value = [4, 31]</text>\n</g>\n<!-- 1&#45;&gt;7 -->\n<g id=\"edge7\" class=\"edge\"><title>1&#45;&gt;7</title>\n<path fill=\"none\" stroke=\"black\" d=\"M333,-400.884C333,-392.778 333,-383.982 333,-375.472\"/>\n<polygon fill=\"black\" stroke=\"black\" points=\"336.5,-375.299 333,-365.299 329.5,-375.299 336.5,-375.299\"/>\n</g>\n<!-- 3 -->\n<g id=\"node4\" class=\"node\"><title>3</title>\n<polygon fill=\"none\" stroke=\"black\" points=\"92,-253.5 0,-253.5 0,-200.5 92,-200.5 92,-253.5\"/>\n<text text-anchor=\"middle\" x=\"46\" y=\"-238.3\" font-family=\"Times,serif\" font-size=\"14.00\">entropy = 0.0</text>\n<text text-anchor=\"middle\" x=\"46\" y=\"-223.3\" font-family=\"Times,serif\" font-size=\"14.00\">samples = 3</text>\n<text text-anchor=\"middle\" x=\"46\" y=\"-208.3\" font-family=\"Times,serif\" font-size=\"14.00\">value = [0, 3]</text>\n</g>\n<!-- 2&#45;&gt;3 -->\n<g id=\"edge3\" class=\"edge\"><title>2&#45;&gt;3</title>\n<path fill=\"none\" stroke=\"black\" d=\"M122.312,-296.884C109.397,-285.226 94.9009,-272.141 82.0398,-260.532\"/>\n<polygon fill=\"black\" stroke=\"black\" points=\"84.0404,-257.622 74.2721,-253.52 79.35,-262.819 84.0404,-257.622\"/>\n</g>\n<!-- 4 -->\n<g id=\"node5\" class=\"node\"><title>4</title>\n<polygon fill=\"none\" stroke=\"black\" points=\"214,-261 110,-261 110,-193 214,-193 214,-261\"/>\n<text text-anchor=\"middle\" x=\"162\" y=\"-245.8\" font-family=\"Times,serif\" font-size=\"14.00\">down &lt;= 2.5</text>\n<text text-anchor=\"middle\" x=\"162\" y=\"-230.8\" font-family=\"Times,serif\" font-size=\"14.00\">entropy = 0.918</text>\n<text text-anchor=\"middle\" x=\"162\" y=\"-215.8\" font-family=\"Times,serif\" font-size=\"14.00\">samples = 6</text>\n<text text-anchor=\"middle\" x=\"162\" y=\"-200.8\" font-family=\"Times,serif\" font-size=\"14.00\">value = [4, 2]</text>\n</g>\n<!-- 2&#45;&gt;4 -->\n<g id=\"edge4\" class=\"edge\"><title>2&#45;&gt;4</title>\n<path fill=\"none\" stroke=\"black\" d=\"M159.974,-296.884C160.212,-288.778 160.471,-279.982 160.721,-271.472\"/>\n<polygon fill=\"black\" stroke=\"black\" points=\"164.225,-271.398 161.021,-261.299 157.228,-271.192 164.225,-271.398\"/>\n</g>\n<!-- 5 -->\n<g id=\"node6\" class=\"node\"><title>5</title>\n<polygon fill=\"none\" stroke=\"black\" points=\"102,-149.5 10,-149.5 10,-96.5 102,-96.5 102,-149.5\"/>\n<text text-anchor=\"middle\" x=\"56\" y=\"-134.3\" font-family=\"Times,serif\" font-size=\"14.00\">entropy = 0.0</text>\n<text text-anchor=\"middle\" x=\"56\" y=\"-119.3\" font-family=\"Times,serif\" font-size=\"14.00\">samples = 3</text>\n<text text-anchor=\"middle\" x=\"56\" y=\"-104.3\" font-family=\"Times,serif\" font-size=\"14.00\">value = [3, 0]</text>\n</g>\n<!-- 4&#45;&gt;5 -->\n<g id=\"edge5\" class=\"edge\"><title>4&#45;&gt;5</title>\n<path fill=\"none\" stroke=\"black\" d=\"M127.585,-192.884C115.47,-181.226 101.872,-168.141 89.8073,-156.532\"/>\n<polygon fill=\"black\" stroke=\"black\" points=\"92.1533,-153.932 82.5207,-149.52 87.2996,-158.976 92.1533,-153.932\"/>\n</g>\n<!-- 6 -->\n<g id=\"node7\" class=\"node\"><title>6</title>\n<polygon fill=\"none\" stroke=\"black\" points=\"224,-149.5 120,-149.5 120,-96.5 224,-96.5 224,-149.5\"/>\n<text text-anchor=\"middle\" x=\"172\" y=\"-134.3\" font-family=\"Times,serif\" font-size=\"14.00\">entropy = 0.918</text>\n<text text-anchor=\"middle\" x=\"172\" y=\"-119.3\" font-family=\"Times,serif\" font-size=\"14.00\">samples = 3</text>\n<text text-anchor=\"middle\" x=\"172\" y=\"-104.3\" font-family=\"Times,serif\" font-size=\"14.00\">value = [1, 2]</text>\n</g>\n<!-- 4&#45;&gt;6 -->\n<g id=\"edge6\" class=\"edge\"><title>4&#45;&gt;6</title>\n<path fill=\"none\" stroke=\"black\" d=\"M165.247,-192.884C166.293,-182.216 167.456,-170.352 168.518,-159.519\"/>\n<polygon fill=\"black\" stroke=\"black\" points=\"172.006,-159.814 169.498,-149.52 165.039,-159.131 172.006,-159.814\"/>\n</g>\n<!-- 8 -->\n<g id=\"node9\" class=\"node\"><title>8</title>\n<polygon fill=\"none\" stroke=\"black\" points=\"366,-261 262,-261 262,-193 366,-193 366,-261\"/>\n<text text-anchor=\"middle\" x=\"314\" y=\"-245.8\" font-family=\"Times,serif\" font-size=\"14.00\">down &lt;= 2.5</text>\n<text text-anchor=\"middle\" x=\"314\" y=\"-230.8\" font-family=\"Times,serif\" font-size=\"14.00\">entropy = 0.702</text>\n<text text-anchor=\"middle\" x=\"314\" y=\"-215.8\" font-family=\"Times,serif\" font-size=\"14.00\">samples = 21</text>\n<text text-anchor=\"middle\" x=\"314\" y=\"-200.8\" font-family=\"Times,serif\" font-size=\"14.00\">value = [4, 17]</text>\n</g>\n<!-- 7&#45;&gt;8 -->\n<g id=\"edge8\" class=\"edge\"><title>7&#45;&gt;8</title>\n<path fill=\"none\" stroke=\"black\" d=\"M326.831,-296.884C325.305,-288.689 323.647,-279.789 322.046,-271.192\"/>\n<polygon fill=\"black\" stroke=\"black\" points=\"325.475,-270.489 320.203,-261.299 318.593,-271.771 325.475,-270.489\"/>\n</g>\n<!-- 15 -->\n<g id=\"node16\" class=\"node\"><title>15</title>\n<polygon fill=\"none\" stroke=\"black\" points=\"482,-253.5 384,-253.5 384,-200.5 482,-200.5 482,-253.5\"/>\n<text text-anchor=\"middle\" x=\"433\" y=\"-238.3\" font-family=\"Times,serif\" font-size=\"14.00\">entropy = 0.0</text>\n<text text-anchor=\"middle\" x=\"433\" y=\"-223.3\" font-family=\"Times,serif\" font-size=\"14.00\">samples = 14</text>\n<text text-anchor=\"middle\" x=\"433\" y=\"-208.3\" font-family=\"Times,serif\" font-size=\"14.00\">value = [0, 14]</text>\n</g>\n<!-- 7&#45;&gt;15 -->\n<g id=\"edge15\" class=\"edge\"><title>7&#45;&gt;15</title>\n<path fill=\"none\" stroke=\"black\" d=\"M365.467,-296.884C376.788,-285.336 389.483,-272.387 400.784,-260.86\"/>\n<polygon fill=\"black\" stroke=\"black\" points=\"403.479,-263.111 407.98,-253.52 398.48,-258.21 403.479,-263.111\"/>\n</g>\n<!-- 9 -->\n<g id=\"node10\" class=\"node\"><title>9</title>\n<polygon fill=\"none\" stroke=\"black\" points=\"377,-157 247,-157 247,-89 377,-89 377,-157\"/>\n<text text-anchor=\"middle\" x=\"312\" y=\"-141.8\" font-family=\"Times,serif\" font-size=\"14.00\">PassLocation &lt;= 0.5</text>\n<text text-anchor=\"middle\" x=\"312\" y=\"-126.8\" font-family=\"Times,serif\" font-size=\"14.00\">entropy = 0.371</text>\n<text text-anchor=\"middle\" x=\"312\" y=\"-111.8\" font-family=\"Times,serif\" font-size=\"14.00\">samples = 14</text>\n<text text-anchor=\"middle\" x=\"312\" y=\"-96.8\" font-family=\"Times,serif\" font-size=\"14.00\">value = [1, 13]</text>\n</g>\n<!-- 8&#45;&gt;9 -->\n<g id=\"edge9\" class=\"edge\"><title>8&#45;&gt;9</title>\n<path fill=\"none\" stroke=\"black\" d=\"M313.351,-192.884C313.192,-184.778 313.019,-175.982 312.852,-167.472\"/>\n<polygon fill=\"black\" stroke=\"black\" points=\"316.348,-167.229 312.653,-157.299 309.35,-167.366 316.348,-167.229\"/>\n</g>\n<!-- 12 -->\n<g id=\"node13\" class=\"node\"><title>12</title>\n<polygon fill=\"none\" stroke=\"black\" points=\"577,-157 395,-157 395,-89 577,-89 577,-157\"/>\n<text text-anchor=\"middle\" x=\"486\" y=\"-141.8\" font-family=\"Times,serif\" font-size=\"14.00\">YardsGainedPrevPlay &lt;= &#45;0.5</text>\n<text text-anchor=\"middle\" x=\"486\" y=\"-126.8\" font-family=\"Times,serif\" font-size=\"14.00\">entropy = 0.985</text>\n<text text-anchor=\"middle\" x=\"486\" y=\"-111.8\" font-family=\"Times,serif\" font-size=\"14.00\">samples = 7</text>\n<text text-anchor=\"middle\" x=\"486\" y=\"-96.8\" font-family=\"Times,serif\" font-size=\"14.00\">value = [3, 4]</text>\n</g>\n<!-- 8&#45;&gt;12 -->\n<g id=\"edge12\" class=\"edge\"><title>8&#45;&gt;12</title>\n<path fill=\"none\" stroke=\"black\" d=\"M366.072,-195.12C383.491,-184.79 403.122,-173.149 421.38,-162.321\"/>\n<polygon fill=\"black\" stroke=\"black\" points=\"423.401,-165.192 430.217,-157.081 419.83,-159.171 423.401,-165.192\"/>\n</g>\n<!-- 10 -->\n<g id=\"node11\" class=\"node\"><title>10</title>\n<polygon fill=\"none\" stroke=\"black\" points=\"260,-53 168,-53 168,-0 260,-0 260,-53\"/>\n<text text-anchor=\"middle\" x=\"214\" y=\"-37.8\" font-family=\"Times,serif\" font-size=\"14.00\">entropy = 0.0</text>\n<text text-anchor=\"middle\" x=\"214\" y=\"-22.8\" font-family=\"Times,serif\" font-size=\"14.00\">samples = 8</text>\n<text text-anchor=\"middle\" x=\"214\" y=\"-7.8\" font-family=\"Times,serif\" font-size=\"14.00\">value = [0, 8]</text>\n</g>\n<!-- 9&#45;&gt;10 -->\n<g id=\"edge10\" class=\"edge\"><title>9&#45;&gt;10</title>\n<path fill=\"none\" stroke=\"black\" d=\"M277.724,-88.9485C268.143,-79.709 257.733,-69.671 248.158,-60.4381\"/>\n<polygon fill=\"black\" stroke=\"black\" points=\"250.318,-57.6586 240.69,-53.2367 245.459,-62.6976 250.318,-57.6586\"/>\n</g>\n<!-- 11 -->\n<g id=\"node12\" class=\"node\"><title>11</title>\n<polygon fill=\"none\" stroke=\"black\" points=\"376,-53 278,-53 278,-0 376,-0 376,-53\"/>\n<text text-anchor=\"middle\" x=\"327\" y=\"-37.8\" font-family=\"Times,serif\" font-size=\"14.00\">entropy = 0.65</text>\n<text text-anchor=\"middle\" x=\"327\" y=\"-22.8\" font-family=\"Times,serif\" font-size=\"14.00\">samples = 6</text>\n<text text-anchor=\"middle\" x=\"327\" y=\"-7.8\" font-family=\"Times,serif\" font-size=\"14.00\">value = [1, 5]</text>\n</g>\n<!-- 9&#45;&gt;11 -->\n<g id=\"edge11\" class=\"edge\"><title>9&#45;&gt;11</title>\n<path fill=\"none\" stroke=\"black\" d=\"M317.246,-88.9485C318.568,-80.6238 319.992,-71.6509 321.333,-63.2027\"/>\n<polygon fill=\"black\" stroke=\"black\" points=\"324.804,-63.6618 322.915,-53.2367 317.89,-62.5643 324.804,-63.6618\"/>\n</g>\n<!-- 13 -->\n<g id=\"node14\" class=\"node\"><title>13</title>\n<polygon fill=\"none\" stroke=\"black\" points=\"516,-53 424,-53 424,-0 516,-0 516,-53\"/>\n<text text-anchor=\"middle\" x=\"470\" y=\"-37.8\" font-family=\"Times,serif\" font-size=\"14.00\">entropy = 0.0</text>\n<text text-anchor=\"middle\" x=\"470\" y=\"-22.8\" font-family=\"Times,serif\" font-size=\"14.00\">samples = 3</text>\n<text text-anchor=\"middle\" x=\"470\" y=\"-7.8\" font-family=\"Times,serif\" font-size=\"14.00\">value = [0, 3]</text>\n</g>\n<!-- 12&#45;&gt;13 -->\n<g id=\"edge13\" class=\"edge\"><title>12&#45;&gt;13</title>\n<path fill=\"none\" stroke=\"black\" d=\"M480.404,-88.9485C478.995,-80.6238 477.475,-71.6509 476.045,-63.2027\"/>\n<polygon fill=\"black\" stroke=\"black\" points=\"479.478,-62.5121 474.358,-53.2367 472.576,-63.6807 479.478,-62.5121\"/>\n</g>\n<!-- 14 -->\n<g id=\"node15\" class=\"node\"><title>14</title>\n<polygon fill=\"none\" stroke=\"black\" points=\"638,-53 534,-53 534,-0 638,-0 638,-53\"/>\n<text text-anchor=\"middle\" x=\"586\" y=\"-37.8\" font-family=\"Times,serif\" font-size=\"14.00\">entropy = 0.811</text>\n<text text-anchor=\"middle\" x=\"586\" y=\"-22.8\" font-family=\"Times,serif\" font-size=\"14.00\">samples = 4</text>\n<text text-anchor=\"middle\" x=\"586\" y=\"-7.8\" font-family=\"Times,serif\" font-size=\"14.00\">value = [3, 1]</text>\n</g>\n<!-- 12&#45;&gt;14 -->\n<g id=\"edge14\" class=\"edge\"><title>12&#45;&gt;14</title>\n<path fill=\"none\" stroke=\"black\" d=\"M520.975,-88.9485C530.849,-79.6175 541.585,-69.4722 551.435,-60.1641\"/>\n<polygon fill=\"black\" stroke=\"black\" points=\"553.901,-62.649 558.765,-53.2367 549.093,-57.5613 553.901,-62.649\"/>\n</g>\n<!-- 17 -->\n<g id=\"node18\" class=\"node\"><title>17</title>\n<polygon fill=\"none\" stroke=\"black\" points=\"532,-357.5 440,-357.5 440,-304.5 532,-304.5 532,-357.5\"/>\n<text text-anchor=\"middle\" x=\"486\" y=\"-342.3\" font-family=\"Times,serif\" font-size=\"14.00\">entropy = 0.0</text>\n<text text-anchor=\"middle\" x=\"486\" y=\"-327.3\" font-family=\"Times,serif\" font-size=\"14.00\">samples = 2</text>\n<text text-anchor=\"middle\" x=\"486\" y=\"-312.3\" font-family=\"Times,serif\" font-size=\"14.00\">value = [2, 0]</text>\n</g>\n<!-- 16&#45;&gt;17 -->\n<g id=\"edge17\" class=\"edge\"><title>16&#45;&gt;17</title>\n<path fill=\"none\" stroke=\"black\" d=\"M486,-400.884C486,-390.326 486,-378.597 486,-367.854\"/>\n<polygon fill=\"black\" stroke=\"black\" points=\"489.5,-367.52 486,-357.52 482.5,-367.52 489.5,-367.52\"/>\n</g>\n<!-- 18 -->\n<g id=\"node19\" class=\"node\"><title>18</title>\n<polygon fill=\"none\" stroke=\"black\" points=\"684,-365 550,-365 550,-297 684,-297 684,-365\"/>\n<text text-anchor=\"middle\" x=\"617\" y=\"-349.8\" font-family=\"Times,serif\" font-size=\"14.00\">PassLocation &lt;= &#45;0.5</text>\n<text text-anchor=\"middle\" x=\"617\" y=\"-334.8\" font-family=\"Times,serif\" font-size=\"14.00\">entropy = 0.918</text>\n<text text-anchor=\"middle\" x=\"617\" y=\"-319.8\" font-family=\"Times,serif\" font-size=\"14.00\">samples = 6</text>\n<text text-anchor=\"middle\" x=\"617\" y=\"-304.8\" font-family=\"Times,serif\" font-size=\"14.00\">value = [4, 2]</text>\n</g>\n<!-- 16&#45;&gt;18 -->\n<g id=\"edge18\" class=\"edge\"><title>16&#45;&gt;18</title>\n<path fill=\"none\" stroke=\"black\" d=\"M528.532,-400.884C540.544,-391.531 553.736,-381.259 566.182,-371.568\"/>\n<polygon fill=\"black\" stroke=\"black\" points=\"568.493,-374.205 574.233,-365.299 564.193,-368.681 568.493,-374.205\"/>\n</g>\n<!-- 19 -->\n<g id=\"node20\" class=\"node\"><title>19</title>\n<polygon fill=\"none\" stroke=\"black\" points=\"637,-253.5 545,-253.5 545,-200.5 637,-200.5 637,-253.5\"/>\n<text text-anchor=\"middle\" x=\"591\" y=\"-238.3\" font-family=\"Times,serif\" font-size=\"14.00\">entropy = 1.0</text>\n<text text-anchor=\"middle\" x=\"591\" y=\"-223.3\" font-family=\"Times,serif\" font-size=\"14.00\">samples = 2</text>\n<text text-anchor=\"middle\" x=\"591\" y=\"-208.3\" font-family=\"Times,serif\" font-size=\"14.00\">value = [1, 1]</text>\n</g>\n<!-- 18&#45;&gt;19 -->\n<g id=\"edge19\" class=\"edge\"><title>18&#45;&gt;19</title>\n<path fill=\"none\" stroke=\"black\" d=\"M608.559,-296.884C605.839,-286.216 602.815,-274.352 600.054,-263.519\"/>\n<polygon fill=\"black\" stroke=\"black\" points=\"603.367,-262.346 597.505,-253.52 596.584,-264.075 603.367,-262.346\"/>\n</g>\n<!-- 20 -->\n<g id=\"node21\" class=\"node\"><title>20</title>\n<polygon fill=\"none\" stroke=\"black\" points=\"785,-261 655,-261 655,-193 785,-193 785,-261\"/>\n<text text-anchor=\"middle\" x=\"720\" y=\"-245.8\" font-family=\"Times,serif\" font-size=\"14.00\">PassLocation &lt;= 0.5</text>\n<text text-anchor=\"middle\" x=\"720\" y=\"-230.8\" font-family=\"Times,serif\" font-size=\"14.00\">entropy = 0.811</text>\n<text text-anchor=\"middle\" x=\"720\" y=\"-215.8\" font-family=\"Times,serif\" font-size=\"14.00\">samples = 4</text>\n<text text-anchor=\"middle\" x=\"720\" y=\"-200.8\" font-family=\"Times,serif\" font-size=\"14.00\">value = [3, 1]</text>\n</g>\n<!-- 18&#45;&gt;20 -->\n<g id=\"edge20\" class=\"edge\"><title>18&#45;&gt;20</title>\n<path fill=\"none\" stroke=\"black\" d=\"M650.441,-296.884C659.616,-287.798 669.666,-277.845 679.204,-268.4\"/>\n<polygon fill=\"black\" stroke=\"black\" points=\"681.731,-270.823 686.374,-261.299 676.806,-265.849 681.731,-270.823\"/>\n</g>\n<!-- 21 -->\n<g id=\"node22\" class=\"node\"><title>21</title>\n<polygon fill=\"none\" stroke=\"black\" points=\"725,-149.5 633,-149.5 633,-96.5 725,-96.5 725,-149.5\"/>\n<text text-anchor=\"middle\" x=\"679\" y=\"-134.3\" font-family=\"Times,serif\" font-size=\"14.00\">entropy = 0.0</text>\n<text text-anchor=\"middle\" x=\"679\" y=\"-119.3\" font-family=\"Times,serif\" font-size=\"14.00\">samples = 2</text>\n<text text-anchor=\"middle\" x=\"679\" y=\"-104.3\" font-family=\"Times,serif\" font-size=\"14.00\">value = [2, 0]</text>\n</g>\n<!-- 20&#45;&gt;21 -->\n<g id=\"edge21\" class=\"edge\"><title>20&#45;&gt;21</title>\n<path fill=\"none\" stroke=\"black\" d=\"M706.688,-192.884C702.312,-181.996 697.435,-169.863 693.008,-158.85\"/>\n<polygon fill=\"black\" stroke=\"black\" points=\"696.235,-157.493 689.258,-149.52 689.74,-160.104 696.235,-157.493\"/>\n</g>\n<!-- 22 -->\n<g id=\"node23\" class=\"node\"><title>22</title>\n<polygon fill=\"none\" stroke=\"black\" points=\"835,-149.5 743,-149.5 743,-96.5 835,-96.5 835,-149.5\"/>\n<text text-anchor=\"middle\" x=\"789\" y=\"-134.3\" font-family=\"Times,serif\" font-size=\"14.00\">entropy = 1.0</text>\n<text text-anchor=\"middle\" x=\"789\" y=\"-119.3\" font-family=\"Times,serif\" font-size=\"14.00\">samples = 2</text>\n<text text-anchor=\"middle\" x=\"789\" y=\"-104.3\" font-family=\"Times,serif\" font-size=\"14.00\">value = [1, 1]</text>\n</g>\n<!-- 20&#45;&gt;22 -->\n<g id=\"edge22\" class=\"edge\"><title>20&#45;&gt;22</title>\n<path fill=\"none\" stroke=\"black\" d=\"M742.402,-192.884C749.991,-181.666 758.473,-169.126 766.1,-157.852\"/>\n<polygon fill=\"black\" stroke=\"black\" points=\"769.032,-159.764 771.737,-149.52 763.234,-155.842 769.032,-159.764\"/>\n</g>\n</g>\n</svg>\n"
          },
          "metadata": {}
        }
      ]
    },
    {
      "metadata": {},
      "cell_type": "markdown",
      "source": "### Exercise 4 Save a Visualization of Decision Tree (4 points)\nYou can save the visualization of decision tree in a PDF file using graph.render command below. Replace '????' with the name of the file you want to use for the PDF file (without the .pdf extension).  After executing the code below with the file name, you should be able to find the file (with .pdf extension) in the same Project folder as this notebook."
    },
    {
      "metadata": {
        "trusted": true
      },
      "cell_type": "code",
      "source": "graph.render('GraphTree')",
      "execution_count": 23,
      "outputs": [
        {
          "output_type": "execute_result",
          "execution_count": 23,
          "data": {
            "text/plain": "'GraphTree.pdf'"
          },
          "metadata": {}
        }
      ]
    },
    {
      "metadata": {},
      "cell_type": "markdown",
      "source": "### Exercise 5 Interpret a Decision Tree (6 points)\n- (1) Find a leaf node in your decision tree that you believe gives a reliable prediction based on your training data. Describe the value of the node.\n- (2) Describe the rule associated with the path from the root node to the leaf node.  When possible, describe the conditions in a way that is easy to understand.  For example, a condition of \"down < 2.5\" can be more easily understood (and correct, given the possible values of down are 1, 2, 3, and 4) as \"down is first down or second down\".  Similarly, a condition of \"PassLocation < 0.5\" can be more easily understood (and correct, given the possible values of PassLocation are -1, 0, and 1) as \"PassLocation is Left Field or Center Field\"."
    },
    {
      "metadata": {},
      "cell_type": "markdown",
      "source": "### Answer to Exercise 5:\n- (1) For PassLocation<=0.5 the entropy value  is 0.991 which shows that it is a reliable prediction\n- (2) If the root has less than 5 yards on a first or second down, and if there hasn't been any yards gained in the last play"
    },
    {
      "metadata": {
        "trusted": true
      },
      "cell_type": "code",
      "source": "predicted_completion = clf.predict(X_test)",
      "execution_count": 31,
      "outputs": []
    },
    {
      "metadata": {
        "trusted": true
      },
      "cell_type": "code",
      "source": "print(predicted_completion)",
      "execution_count": 32,
      "outputs": [
        {
          "output_type": "stream",
          "text": "[1 1 1 0 0 1 1 1 1 1 1 1 1 1 1 0 1 1]\n",
          "name": "stdout"
        }
      ]
    },
    {
      "metadata": {
        "trusted": true
      },
      "cell_type": "code",
      "source": "print(y_test)",
      "execution_count": 33,
      "outputs": [
        {
          "output_type": "stream",
          "text": "[1 1 1 0 1 1 1 1 0 0 1 1 0 1 1 1 1 0]\n",
          "name": "stdout"
        }
      ]
    },
    {
      "metadata": {
        "trusted": true
      },
      "cell_type": "code",
      "source": "np.mean(predicted_completion == y_test)",
      "execution_count": 34,
      "outputs": [
        {
          "output_type": "execute_result",
          "execution_count": 34,
          "data": {
            "text/plain": "0.6666666666666666"
          },
          "metadata": {}
        }
      ]
    },
    {
      "metadata": {
        "trusted": true
      },
      "cell_type": "code",
      "source": "print(metrics.classification_report(y_test, predicted_completion))",
      "execution_count": 35,
      "outputs": [
        {
          "output_type": "stream",
          "text": "             precision    recall  f1-score   support\n\n          0       0.33      0.20      0.25         5\n          1       0.73      0.85      0.79        13\n\navg / total       0.62      0.67      0.64        18\n\n",
          "name": "stdout"
        }
      ]
    },
    {
      "metadata": {
        "trusted": true
      },
      "cell_type": "code",
      "source": "metrics.confusion_matrix(y_test, predicted_completion)",
      "execution_count": 36,
      "outputs": [
        {
          "output_type": "execute_result",
          "execution_count": 36,
          "data": {
            "text/plain": "array([[ 1,  4],\n       [ 2, 11]])"
          },
          "metadata": {}
        }
      ]
    },
    {
      "metadata": {
        "trusted": true
      },
      "cell_type": "code",
      "source": "",
      "execution_count": null,
      "outputs": []
    },
    {
      "metadata": {
        "trusted": true
      },
      "cell_type": "code",
      "source": "",
      "execution_count": null,
      "outputs": []
    }
  ],
  "metadata": {
    "kernelspec": {
      "name": "python3",
      "display_name": "Python 3",
      "language": "python"
    },
    "language_info": {
      "mimetype": "text/x-python",
      "nbconvert_exporter": "python",
      "name": "python",
      "file_extension": ".py",
      "version": "3.5.4",
      "pygments_lexer": "ipython3",
      "codemirror_mode": {
        "version": 3,
        "name": "ipython"
      }
    }
  },
  "nbformat": 4,
  "nbformat_minor": 2
}