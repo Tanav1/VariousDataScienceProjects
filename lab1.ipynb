{
 "cells": [
  {
   "cell_type": "markdown",
   "metadata": {},
   "source": [
    "# Lab 3 Data Representation II --- Text\n",
    "\n",
    "### Acknowledgement: Part of this lab is based on a lab of data 8 developed at UC Berkeley.\n",
    "\n",
    "The learning objectives of this lab are for you to be able to\n",
    "<ol>\n",
    "    <li> Split a piece of text into segments using .split in Python. </li>\n",
    "    <li> Count the frequency a name occurs in a string using char.count in numpy. </li>\n",
    "    <li> Visualize the change of word frequency in different chapters of a novel. </li>\n",
    "    <li> Use CountVectorizer to transform tweets into their word frequency representation. </li>\n",
    "    <li> Extract the words and the word frequency count from the word frequency matrix (at least when the number of tweets is small) </li>\n",
    "    </ol>"
   ]
  },
  {
   "cell_type": "code",
   "execution_count": 1,
   "metadata": {},
   "outputs": [
    {
     "name": "stdout",
     "output_type": "stream",
     "text": [
      "Requirement already satisfied: datascience in /anaconda3/lib/python3.7/site-packages (0.15.0)\n",
      "Requirement already satisfied: scipy in /anaconda3/lib/python3.7/site-packages (from datascience) (1.3.0)\n",
      "Requirement already satisfied: ipython in /anaconda3/lib/python3.7/site-packages (from datascience) (7.6.1)\n",
      "Requirement already satisfied: coverage==4.5.3 in /anaconda3/lib/python3.7/site-packages (from datascience) (4.5.3)\n",
      "Requirement already satisfied: numpy in /anaconda3/lib/python3.7/site-packages (from datascience) (1.16.4)\n",
      "Requirement already satisfied: coveralls in /anaconda3/lib/python3.7/site-packages (from datascience) (1.8.2)\n",
      "Requirement already satisfied: folium>=0.9.1 in /anaconda3/lib/python3.7/site-packages (from datascience) (0.10.0)\n",
      "Requirement already satisfied: sphinx in /anaconda3/lib/python3.7/site-packages (from datascience) (2.1.2)\n",
      "Requirement already satisfied: setuptools in /anaconda3/lib/python3.7/site-packages (from datascience) (41.0.1)\n",
      "Requirement already satisfied: bokeh in /anaconda3/lib/python3.7/site-packages (from datascience) (1.2.0)\n",
      "Requirement already satisfied: pytest in /anaconda3/lib/python3.7/site-packages (from datascience) (5.0.1)\n",
      "Requirement already satisfied: pandas in /anaconda3/lib/python3.7/site-packages (from datascience) (0.24.2)\n",
      "Requirement already satisfied: matplotlib>=3.0.0 in /anaconda3/lib/python3.7/site-packages (from datascience) (3.1.0)\n",
      "Requirement already satisfied: backcall in /anaconda3/lib/python3.7/site-packages (from ipython->datascience) (0.1.0)\n",
      "Requirement already satisfied: pexpect; sys_platform != \"win32\" in /anaconda3/lib/python3.7/site-packages (from ipython->datascience) (4.7.0)\n",
      "Requirement already satisfied: traitlets>=4.2 in /anaconda3/lib/python3.7/site-packages (from ipython->datascience) (4.3.2)\n",
      "Requirement already satisfied: pygments in /anaconda3/lib/python3.7/site-packages (from ipython->datascience) (2.4.2)\n",
      "Requirement already satisfied: appnope; sys_platform == \"darwin\" in /anaconda3/lib/python3.7/site-packages (from ipython->datascience) (0.1.0)\n",
      "Requirement already satisfied: decorator in /anaconda3/lib/python3.7/site-packages (from ipython->datascience) (4.4.0)\n",
      "Requirement already satisfied: jedi>=0.10 in /anaconda3/lib/python3.7/site-packages (from ipython->datascience) (0.13.3)\n",
      "Requirement already satisfied: prompt-toolkit<2.1.0,>=2.0.0 in /anaconda3/lib/python3.7/site-packages (from ipython->datascience) (2.0.9)\n",
      "Requirement already satisfied: pickleshare in /anaconda3/lib/python3.7/site-packages (from ipython->datascience) (0.7.5)\n",
      "Requirement already satisfied: docopt>=0.6.1 in /anaconda3/lib/python3.7/site-packages (from coveralls->datascience) (0.6.2)\n",
      "Requirement already satisfied: requests>=1.0.0 in /anaconda3/lib/python3.7/site-packages (from coveralls->datascience) (2.22.0)\n",
      "Requirement already satisfied: branca>=0.3.0 in /anaconda3/lib/python3.7/site-packages (from folium>=0.9.1->datascience) (0.3.1)\n",
      "Requirement already satisfied: jinja2>=2.9 in /anaconda3/lib/python3.7/site-packages (from folium>=0.9.1->datascience) (2.10.1)\n",
      "Requirement already satisfied: snowballstemmer>=1.1 in /anaconda3/lib/python3.7/site-packages (from sphinx->datascience) (1.9.0)\n",
      "Requirement already satisfied: sphinxcontrib-applehelp in /anaconda3/lib/python3.7/site-packages (from sphinx->datascience) (1.0.1)\n",
      "Requirement already satisfied: alabaster<0.8,>=0.7 in /anaconda3/lib/python3.7/site-packages (from sphinx->datascience) (0.7.12)\n",
      "Requirement already satisfied: sphinxcontrib-htmlhelp in /anaconda3/lib/python3.7/site-packages (from sphinx->datascience) (1.0.2)\n",
      "Requirement already satisfied: sphinxcontrib-jsmath in /anaconda3/lib/python3.7/site-packages (from sphinx->datascience) (1.0.1)\n",
      "Requirement already satisfied: sphinxcontrib-devhelp in /anaconda3/lib/python3.7/site-packages (from sphinx->datascience) (1.0.1)\n",
      "Requirement already satisfied: sphinxcontrib-qthelp in /anaconda3/lib/python3.7/site-packages (from sphinx->datascience) (1.0.2)\n",
      "Requirement already satisfied: docutils>=0.12 in /anaconda3/lib/python3.7/site-packages (from sphinx->datascience) (0.14)\n",
      "Requirement already satisfied: babel!=2.0,>=1.3 in /anaconda3/lib/python3.7/site-packages (from sphinx->datascience) (2.7.0)\n",
      "Requirement already satisfied: imagesize in /anaconda3/lib/python3.7/site-packages (from sphinx->datascience) (1.1.0)\n",
      "Requirement already satisfied: packaging in /anaconda3/lib/python3.7/site-packages (from sphinx->datascience) (19.0)\n",
      "Requirement already satisfied: sphinxcontrib-serializinghtml in /anaconda3/lib/python3.7/site-packages (from sphinx->datascience) (1.1.3)\n",
      "Requirement already satisfied: tornado>=4.3 in /anaconda3/lib/python3.7/site-packages (from bokeh->datascience) (6.0.3)\n",
      "Requirement already satisfied: PyYAML>=3.10 in /anaconda3/lib/python3.7/site-packages (from bokeh->datascience) (5.1.1)\n",
      "Requirement already satisfied: six>=1.5.2 in /anaconda3/lib/python3.7/site-packages (from bokeh->datascience) (1.12.0)\n",
      "Requirement already satisfied: python-dateutil>=2.1 in /anaconda3/lib/python3.7/site-packages (from bokeh->datascience) (2.8.0)\n",
      "Requirement already satisfied: pillow>=4.0 in /anaconda3/lib/python3.7/site-packages (from bokeh->datascience) (6.1.0)\n",
      "Requirement already satisfied: py>=1.5.0 in /anaconda3/lib/python3.7/site-packages (from pytest->datascience) (1.8.0)\n",
      "Requirement already satisfied: attrs>=17.4.0 in /anaconda3/lib/python3.7/site-packages (from pytest->datascience) (19.1.0)\n",
      "Requirement already satisfied: more-itertools>=4.0.0 in /anaconda3/lib/python3.7/site-packages (from pytest->datascience) (7.0.0)\n",
      "Requirement already satisfied: atomicwrites>=1.0 in /anaconda3/lib/python3.7/site-packages (from pytest->datascience) (1.3.0)\n",
      "Requirement already satisfied: pluggy<1.0,>=0.12 in /anaconda3/lib/python3.7/site-packages (from pytest->datascience) (0.12.0)\n",
      "Requirement already satisfied: importlib-metadata>=0.12 in /anaconda3/lib/python3.7/site-packages (from pytest->datascience) (0.17)\n",
      "Requirement already satisfied: wcwidth in /anaconda3/lib/python3.7/site-packages (from pytest->datascience) (0.1.7)\n",
      "Requirement already satisfied: pytz>=2011k in /anaconda3/lib/python3.7/site-packages (from pandas->datascience) (2019.1)\n",
      "Requirement already satisfied: cycler>=0.10 in /anaconda3/lib/python3.7/site-packages (from matplotlib>=3.0.0->datascience) (0.10.0)\n",
      "Requirement already satisfied: kiwisolver>=1.0.1 in /anaconda3/lib/python3.7/site-packages (from matplotlib>=3.0.0->datascience) (1.1.0)\n",
      "Requirement already satisfied: pyparsing!=2.0.4,!=2.1.2,!=2.1.6,>=2.0.1 in /anaconda3/lib/python3.7/site-packages (from matplotlib>=3.0.0->datascience) (2.4.0)\n",
      "Requirement already satisfied: ptyprocess>=0.5 in /anaconda3/lib/python3.7/site-packages (from pexpect; sys_platform != \"win32\"->ipython->datascience) (0.6.0)\n",
      "Requirement already satisfied: ipython-genutils in /anaconda3/lib/python3.7/site-packages (from traitlets>=4.2->ipython->datascience) (0.2.0)\n",
      "Requirement already satisfied: parso>=0.3.0 in /anaconda3/lib/python3.7/site-packages (from jedi>=0.10->ipython->datascience) (0.5.0)\n",
      "Requirement already satisfied: urllib3!=1.25.0,!=1.25.1,<1.26,>=1.21.1 in /anaconda3/lib/python3.7/site-packages (from requests>=1.0.0->coveralls->datascience) (1.24.2)\n",
      "Requirement already satisfied: chardet<3.1.0,>=3.0.2 in /anaconda3/lib/python3.7/site-packages (from requests>=1.0.0->coveralls->datascience) (3.0.4)\n",
      "Requirement already satisfied: certifi>=2017.4.17 in /anaconda3/lib/python3.7/site-packages (from requests>=1.0.0->coveralls->datascience) (2019.6.16)\n",
      "Requirement already satisfied: idna<2.9,>=2.5 in /anaconda3/lib/python3.7/site-packages (from requests>=1.0.0->coveralls->datascience) (2.8)\n",
      "Requirement already satisfied: MarkupSafe>=0.23 in /anaconda3/lib/python3.7/site-packages (from jinja2>=2.9->folium>=0.9.1->datascience) (1.1.1)\n",
      "Requirement already satisfied: zipp>=0.5 in /anaconda3/lib/python3.7/site-packages (from importlib-metadata>=0.12->pytest->datascience) (0.5.1)\n"
     ]
    }
   ],
   "source": [
    "!pip install datascience"
   ]
  },
  {
   "cell_type": "code",
   "execution_count": 2,
   "metadata": {},
   "outputs": [],
   "source": [
    "import datascience"
   ]
  },
  {
   "cell_type": "code",
   "execution_count": 3,
   "metadata": {},
   "outputs": [],
   "source": [
    "from datascience import *\n",
    "import numpy as np\n",
    "import matplotlib"
   ]
  },
  {
   "cell_type": "code",
   "execution_count": 4,
   "metadata": {},
   "outputs": [],
   "source": [
    "matplotlib.use('Agg', warn=False)\n",
    "%matplotlib inline\n",
    "import matplotlib.pyplot as plots\n",
    "plots.style.use('fivethirtyeight')\n",
    "\n",
    "import warnings\n",
    "warnings.simplefilter(action=\"ignore\", category=FutureWarning)"
   ]
  },
  {
   "cell_type": "markdown",
   "metadata": {},
   "source": [
    "### Import urlopen so that we can use python code to access and read an URL page.\n",
    "The function read_url takes a url address as input, read, and decode it. \n",
    "Finally, the function substitutes all space characters (represented using a special symbol '\\\\s', including new line, tabs, etc) with ' ' using a method (sub) in the regular expression module (re).\n",
    "\n",
    "'def' defines a new function, ':' indicates the remaining indented lines form the body of the function definition.  'return' indicates the value to be returned by the function."
   ]
  },
  {
   "cell_type": "code",
   "execution_count": 5,
   "metadata": {},
   "outputs": [],
   "source": [
    "from urllib.request import urlopen\n",
    "import re\n",
    "def read_url(url):\n",
    "    return re.sub('\\\\s+', ' ', urlopen(url).read().decode())"
   ]
  },
  {
   "cell_type": "markdown",
   "metadata": {},
   "source": [
    "#### Read a Novel from an URL address\n",
    "We use the function defined above (read_url) to read the novel Adventures of Huckleberry Finn."
   ]
  },
  {
   "cell_type": "code",
   "execution_count": 6,
   "metadata": {},
   "outputs": [],
   "source": [
    "# Read The Adventures of Huckleberry Finn\n",
    "huck_finn_url = 'http://introcs.cs.princeton.edu/python/33design/huckfinn.txt'\n",
    "huck_finn_text = read_url(huck_finn_url)"
   ]
  },
  {
   "cell_type": "markdown",
   "metadata": {},
   "source": [
    "### Splitting text into smaller segments\n",
    "The entire text of the novel is stored in the variable \"huck_finn_text\"."
   ]
  },
  {
   "cell_type": "code",
   "execution_count": 7,
   "metadata": {},
   "outputs": [
    {
     "name": "stdout",
     "output_type": "stream",
     "text": [
      "The Project Gutenberg EBook of The Adventures of Huckleberry Finn, Complete by Mark Twain (Samuel Clemens) This eBook is for the use of anyone anywhere at no cost and with almost no restrictions whatsoever. You may copy it, give it away or re-use it under the terms of the Project Gutenberg License included with this eBook or online at www.gutenberg.net Title: The Adventures of Huckleberry Finn, Complete Author: Mark Twain (Samuel Clemens) Release Date: June 29, 2004 [EBook #76] Language: English\n"
     ]
    }
   ],
   "source": [
    "print(huck_finn_text[:500])"
   ]
  },
  {
   "cell_type": "markdown",
   "metadata": {},
   "source": [
    "### Split \n",
    "The .split() method of STRING takes an argument, which is the string used to divide the input text into segments.  The example below first uses 'CHAPTER ' to divide the entire novel into segments based on the chapters of the book, because each chapter starts with 'CHAPTER 1', 'CHAPTER 2', ....  \n",
    "Because the first element of the list is the preface, we only want the contents of chapters after the fist element (preface).  We can do this using [1:], which indicates we only want those elements AFTER the first element (which has an index 0).  "
   ]
  },
  {
   "cell_type": "code",
   "execution_count": 8,
   "metadata": {},
   "outputs": [],
   "source": [
    "list1=['This', 'is', 'an', 'exemplar', 'list']"
   ]
  },
  {
   "cell_type": "code",
   "execution_count": 9,
   "metadata": {},
   "outputs": [],
   "source": [
    "sublist = list1[1:]"
   ]
  },
  {
   "cell_type": "markdown",
   "metadata": {},
   "source": [
    "#### We can get a sublist from the original list by specifying the beginning and the end of the sublist.\n",
    "For example, the following code extracts a sublist that starts on the 0th position (first in the list), ends before (not including) the 3rd position of the list."
   ]
  },
  {
   "cell_type": "code",
   "execution_count": 10,
   "metadata": {},
   "outputs": [
    {
     "name": "stdout",
     "output_type": "stream",
     "text": [
      "['This', 'is', 'an']\n"
     ]
    }
   ],
   "source": [
    "sublist2 = list1[0:3]\n",
    "print(sublist2)"
   ]
  },
  {
   "cell_type": "markdown",
   "metadata": {},
   "source": [
    "### Split Chapters of a Novel\n",
    "Now we are ready to split the entire novel into chapters, and take all of the chapters except the preface."
   ]
  },
  {
   "cell_type": "code",
   "execution_count": 56,
   "metadata": {},
   "outputs": [
    {
     "name": "stdout",
     "output_type": "stream",
     "text": [
      "[]\n"
     ]
    }
   ],
   "source": [
    "huck_finn_chapters = huck_finn_text[:500].split('CHAPTER ')[1:]\n",
    "print(huck_finn_chapters)"
   ]
  },
  {
   "cell_type": "code",
   "execution_count": 57,
   "metadata": {},
   "outputs": [
    {
     "data": {
      "text/html": [
       "<table border=\"1\" class=\"dataframe\">\n",
       "    <thead>\n",
       "        <tr>\n",
       "            <th>Chapters</th>\n",
       "        </tr>\n",
       "    </thead>\n",
       "    <tbody>\n",
       "    </tbody>\n",
       "</table>"
      ],
      "text/plain": [
       "<IPython.core.display.HTML object>"
      ]
     },
     "metadata": {},
     "output_type": "display_data"
    }
   ],
   "source": [
    "ChapTable=Table().with_column('Chapters', huck_finn_chapters)\n",
    "ChapTable.show(10)"
   ]
  },
  {
   "cell_type": "markdown",
   "metadata": {},
   "source": [
    "### Split into words\n",
    "We can also use split to break a sentence into words, by use space ' ' as the parameter of .split, because words of a sentence are separated by space.  Below is an example."
   ]
  },
  {
   "cell_type": "code",
   "execution_count": 13,
   "metadata": {},
   "outputs": [
    {
     "name": "stdout",
     "output_type": "stream",
     "text": [
      "Penn State football is rising on the AP pool.\n"
     ]
    }
   ],
   "source": [
    "sentence='Penn State football is rising on the AP pool.'\n",
    "print(sentence)"
   ]
  },
  {
   "cell_type": "code",
   "execution_count": 14,
   "metadata": {},
   "outputs": [
    {
     "name": "stdout",
     "output_type": "stream",
     "text": [
      "['Penn', 'State', 'football', 'is', 'rising', 'on', 'the', 'AP', 'pool.']\n"
     ]
    }
   ],
   "source": [
    "words=sentence.split()\n",
    "print(words)"
   ]
  },
  {
   "cell_type": "markdown",
   "metadata": {},
   "source": [
    "### Exercise 1\n",
    "Create a sentence of your own, then use split(' ') to turn it into a list of words."
   ]
  },
  {
   "cell_type": "code",
   "execution_count": 15,
   "metadata": {},
   "outputs": [
    {
     "name": "stdout",
     "output_type": "stream",
     "text": [
      "The basketball player dunked the ball.\n"
     ]
    }
   ],
   "source": [
    "Mysentence = 'The basketball player dunked the ball.'\n",
    "print(Mysentence)"
   ]
  },
  {
   "cell_type": "code",
   "execution_count": 16,
   "metadata": {},
   "outputs": [
    {
     "name": "stdout",
     "output_type": "stream",
     "text": [
      "['The', 'basketball', 'player', 'dunked', 'the', 'ball.']\n"
     ]
    }
   ],
   "source": [
    "Mywords = Mysentence.split()\n",
    "print(Mywords)"
   ]
  },
  {
   "cell_type": "markdown",
   "metadata": {},
   "source": [
    "### Extracting a Specific Word from a Text\n",
    "There are often a need to extract a specific word from a large piece of text.  One way to do it is to use numpy Python module char.count.  For example, the following code count, for each chapter, how many time 'Jim\" appears."
   ]
  },
  {
   "cell_type": "code",
   "execution_count": 17,
   "metadata": {},
   "outputs": [
    {
     "data": {
      "text/plain": [
       "array([ 0, 16,  0,  8,  0,  0,  0, 22, 11, 19,  4, 20,  9,  6, 16, 28,  0,\n",
       "       10, 13, 18,  1,  0,  9,  5,  0,  0,  0,  1,  3,  5, 17,  0,  4, 17,\n",
       "       16, 23,  4, 26, 10, 12,  0, 11,  6])"
      ]
     },
     "execution_count": 17,
     "metadata": {},
     "output_type": "execute_result"
    }
   ],
   "source": [
    "np.char.count(huck_finn_chapters, 'Jim')"
   ]
  },
  {
   "cell_type": "markdown",
   "metadata": {},
   "source": [
    "#### As we can see, the result is a one-dimensional array.\n",
    "The entries in the array show that 'Jim' occurs 0 time in Chapter 1, 16 time in Chapter 2, and so on."
   ]
  },
  {
   "cell_type": "markdown",
   "metadata": {},
   "source": [
    "### Exercise 2\n",
    "Find out how many time 'Tom' appears in Chapter 1, 5 and 10."
   ]
  },
  {
   "cell_type": "code",
   "execution_count": 18,
   "metadata": {},
   "outputs": [
    {
     "data": {
      "text/plain": [
       "array([ 6, 24,  5,  0,  0,  0,  2,  2,  0,  0,  2,  3,  1,  0,  0,  0,  3,\n",
       "        5,  0,  0,  0,  0,  0,  0,  0,  0,  0,  1,  0,  0,  1,  3, 19, 15,\n",
       "       14, 18,  9, 32, 11, 11,  7, 29,  6])"
      ]
     },
     "execution_count": 18,
     "metadata": {},
     "output_type": "execute_result"
    }
   ],
   "source": [
    "np.char.count(huck_finn_chapters, 'Tom' )"
   ]
  },
  {
   "cell_type": "markdown",
   "metadata": {},
   "source": [
    "### Put Your Answer in the next line of this text cell:\n",
    "My Answer for Exercise 2: [ 6, 24,  5,  0,  0,  0,  2,  2,  0,  0,  2,  3,  1,  0,  0,  0,  3,\n",
    "        5,  0,  0,  0,  0,  0,  0,  0,  0,  0,  1,  0,  0,  1,  3, 19, 15,\n",
    "       14, 18,  9, 32, 11, 11,  7, 29,  6]"
   ]
  },
  {
   "cell_type": "markdown",
   "metadata": {},
   "source": [
    "### Comparing word frequency of different characters\n",
    "We can collect the count of different character's name into a table: rows are chapters, columns are count for different character's name in the novel."
   ]
  },
  {
   "cell_type": "code",
   "execution_count": 19,
   "metadata": {},
   "outputs": [],
   "source": [
    "counts = Table().with_columns([\n",
    "        'Jim', np.char.count(huck_finn_chapters, 'Jim'),\n",
    "        'Tom', np.char.count(huck_finn_chapters, 'Tom'),\n",
    "        'Huck', np.char.count(huck_finn_chapters, 'Huck')\n",
    "    ])"
   ]
  },
  {
   "cell_type": "code",
   "execution_count": 20,
   "metadata": {},
   "outputs": [
    {
     "data": {
      "text/html": [
       "<table border=\"1\" class=\"dataframe\">\n",
       "    <thead>\n",
       "        <tr>\n",
       "            <th>Jim</th> <th>Tom</th> <th>Huck</th>\n",
       "        </tr>\n",
       "    </thead>\n",
       "    <tbody>\n",
       "        <tr>\n",
       "            <td>0   </td> <td>6   </td> <td>3   </td>\n",
       "        </tr>\n",
       "        <tr>\n",
       "            <td>16  </td> <td>24  </td> <td>2   </td>\n",
       "        </tr>\n",
       "        <tr>\n",
       "            <td>0   </td> <td>5   </td> <td>2   </td>\n",
       "        </tr>\n",
       "        <tr>\n",
       "            <td>8   </td> <td>0   </td> <td>1   </td>\n",
       "        </tr>\n",
       "        <tr>\n",
       "            <td>0   </td> <td>0   </td> <td>0   </td>\n",
       "        </tr>\n",
       "        <tr>\n",
       "            <td>0   </td> <td>0   </td> <td>2   </td>\n",
       "        </tr>\n",
       "        <tr>\n",
       "            <td>0   </td> <td>2   </td> <td>0   </td>\n",
       "        </tr>\n",
       "        <tr>\n",
       "            <td>22  </td> <td>2   </td> <td>5   </td>\n",
       "        </tr>\n",
       "        <tr>\n",
       "            <td>11  </td> <td>0   </td> <td>1   </td>\n",
       "        </tr>\n",
       "        <tr>\n",
       "            <td>19  </td> <td>0   </td> <td>0   </td>\n",
       "        </tr>\n",
       "    </tbody>\n",
       "</table>\n",
       "<p>... (33 rows omitted)</p>"
      ],
      "text/plain": [
       "<IPython.core.display.HTML object>"
      ]
     },
     "metadata": {},
     "output_type": "display_data"
    }
   ],
   "source": [
    "counts.show(10)"
   ]
  },
  {
   "cell_type": "markdown",
   "metadata": {},
   "source": [
    "### Visualize and Comparison\n",
    "Can we vse visualization to compare the change of number of occurance of these three characters over different chapters in the novel?  \n",
    "The answer is YES.  We can do this using plot."
   ]
  },
  {
   "cell_type": "code",
   "execution_count": 21,
   "metadata": {},
   "outputs": [
    {
     "data": {
      "text/plain": [
       "Text(0.5, 1.0, 'Number of Times Each Name Appers in a Chapter')"
      ]
     },
     "execution_count": 21,
     "metadata": {},
     "output_type": "execute_result"
    },
    {
     "data": {
      "image/png": "[encoded data removed]",
      "text/plain": [
       "<Figure size 432x288 with 1 Axes>"
      ]
     },
     "metadata": {},
     "output_type": "display_data"
    }
   ],
   "source": [
    "counts.plot()\n",
    "plots.title('Number of Times Each Name Appers in a Chapter')"
   ]
  },
  {
   "cell_type": "markdown",
   "metadata": {},
   "source": [
    "### We can also compare the cumulative total appearance of a name from Chapter 1. \n",
    "This can be done using .cumsum() method of numpy."
   ]
  },
  {
   "cell_type": "code",
   "execution_count": 22,
   "metadata": {},
   "outputs": [
    {
     "data": {
      "text/html": [
       "<table border=\"1\" class=\"dataframe\">\n",
       "    <thead>\n",
       "        <tr>\n",
       "            <th>Jim</th> <th>Tom</th> <th>Huck</th>\n",
       "        </tr>\n",
       "    </thead>\n",
       "    <tbody>\n",
       "        <tr>\n",
       "            <td>0   </td> <td>6   </td> <td>3   </td>\n",
       "        </tr>\n",
       "        <tr>\n",
       "            <td>16  </td> <td>30  </td> <td>5   </td>\n",
       "        </tr>\n",
       "        <tr>\n",
       "            <td>16  </td> <td>35  </td> <td>7   </td>\n",
       "        </tr>\n",
       "        <tr>\n",
       "            <td>24  </td> <td>35  </td> <td>8   </td>\n",
       "        </tr>\n",
       "        <tr>\n",
       "            <td>24  </td> <td>35  </td> <td>8   </td>\n",
       "        </tr>\n",
       "        <tr>\n",
       "            <td>24  </td> <td>35  </td> <td>10  </td>\n",
       "        </tr>\n",
       "        <tr>\n",
       "            <td>24  </td> <td>37  </td> <td>10  </td>\n",
       "        </tr>\n",
       "        <tr>\n",
       "            <td>46  </td> <td>39  </td> <td>15  </td>\n",
       "        </tr>\n",
       "        <tr>\n",
       "            <td>57  </td> <td>39  </td> <td>16  </td>\n",
       "        </tr>\n",
       "        <tr>\n",
       "            <td>76  </td> <td>39  </td> <td>16  </td>\n",
       "        </tr>\n",
       "    </tbody>\n",
       "</table>\n",
       "<p>... (33 rows omitted)</p>"
      ],
      "text/plain": [
       "Jim  | Tom  | Huck\n",
       "0    | 6    | 3\n",
       "16   | 30   | 5\n",
       "16   | 35   | 7\n",
       "24   | 35   | 8\n",
       "24   | 35   | 8\n",
       "24   | 35   | 10\n",
       "24   | 37   | 10\n",
       "46   | 39   | 15\n",
       "57   | 39   | 16\n",
       "76   | 39   | 16\n",
       "... (33 rows omitted)"
      ]
     },
     "execution_count": 22,
     "metadata": {},
     "output_type": "execute_result"
    }
   ],
   "source": [
    "counts.cumsum()"
   ]
  },
  {
   "cell_type": "code",
   "execution_count": 23,
   "metadata": {},
   "outputs": [
    {
     "data": {
      "text/html": [
       "<table border=\"1\" class=\"dataframe\">\n",
       "    <thead>\n",
       "        <tr>\n",
       "            <th>Jim</th> <th>Tom</th> <th>Huck</th> <th>Chapter</th>\n",
       "        </tr>\n",
       "    </thead>\n",
       "    <tbody>\n",
       "        <tr>\n",
       "            <td>0   </td> <td>6   </td> <td>3   </td> <td>1      </td>\n",
       "        </tr>\n",
       "        <tr>\n",
       "            <td>16  </td> <td>30  </td> <td>5   </td> <td>2      </td>\n",
       "        </tr>\n",
       "        <tr>\n",
       "            <td>16  </td> <td>35  </td> <td>7   </td> <td>3      </td>\n",
       "        </tr>\n",
       "        <tr>\n",
       "            <td>24  </td> <td>35  </td> <td>8   </td> <td>4      </td>\n",
       "        </tr>\n",
       "        <tr>\n",
       "            <td>24  </td> <td>35  </td> <td>8   </td> <td>5      </td>\n",
       "        </tr>\n",
       "        <tr>\n",
       "            <td>24  </td> <td>35  </td> <td>10  </td> <td>6      </td>\n",
       "        </tr>\n",
       "        <tr>\n",
       "            <td>24  </td> <td>37  </td> <td>10  </td> <td>7      </td>\n",
       "        </tr>\n",
       "        <tr>\n",
       "            <td>46  </td> <td>39  </td> <td>15  </td> <td>8      </td>\n",
       "        </tr>\n",
       "        <tr>\n",
       "            <td>57  </td> <td>39  </td> <td>16  </td> <td>9      </td>\n",
       "        </tr>\n",
       "        <tr>\n",
       "            <td>76  </td> <td>39  </td> <td>16  </td> <td>10     </td>\n",
       "        </tr>\n",
       "    </tbody>\n",
       "</table>\n",
       "<p>... (33 rows omitted)</p>"
      ],
      "text/plain": [
       "<IPython.core.display.HTML object>"
      ]
     },
     "metadata": {},
     "output_type": "display_data"
    }
   ],
   "source": [
    "cum_counts = counts.cumsum().with_column('Chapter', np.arange(1, 44, 1))\n",
    "cum_counts.show(10)"
   ]
  },
  {
   "cell_type": "code",
   "execution_count": 24,
   "metadata": {},
   "outputs": [
    {
     "data": {
      "text/plain": [
       "Text(0.5, 1.08, 'Cumulative Number of Times Each Name Appears')"
      ]
     },
     "execution_count": 24,
     "metadata": {},
     "output_type": "execute_result"
    },
    {
     "data": {
      "image/png": "[encoded data removed]",
      "text/plain": [
       "<Figure size 432x288 with 1 Axes>"
      ]
     },
     "metadata": {},
     "output_type": "display_data"
    }
   ],
   "source": [
    "cum_counts.plot(column_for_xticks=3)\n",
    "plots.title('Cumulative Number of Times Each Name Appears', y=1.08)"
   ]
  },
  {
   "cell_type": "code",
   "execution_count": 25,
   "metadata": {},
   "outputs": [],
   "source": [
    "# Read Little Women\n",
    "little_women_url = 'https://raw.githubusercontent.com/ehmatthes/pcc_prep/master/chapter_10/little_women.txt'\n",
    "little_women_text = read_url(little_women_url)"
   ]
  },
  {
   "cell_type": "markdown",
   "metadata": {},
   "source": [
    "### Exercise 3 Separate Text Using Split\n",
    "In this exercise, separate the novel \"Little Woman\" into multiple segments based on its chapters.\n",
    "#### Hint: Each chapter starts with 'CHAPTER n' where n is the number of the chapter."
   ]
  },
  {
   "cell_type": "code",
   "execution_count": 58,
   "metadata": {},
   "outputs": [
    {
     "name": "stdout",
     "output_type": "stream",
     "text": [
      "[]\n"
     ]
    }
   ],
   "source": [
    "little_women_chapters = little_women_text[:500].split('CHAPTER')[1:]\n",
    "print(little_women_chapters)"
   ]
  },
  {
   "cell_type": "markdown",
   "metadata": {},
   "source": [
    "#### You can then create a table with one column (column heading is 'Chapters'"
   ]
  },
  {
   "cell_type": "code",
   "execution_count": 27,
   "metadata": {},
   "outputs": [
    {
     "data": {
      "text/html": [
       "<table border=\"1\" class=\"dataframe\">\n",
       "    <thead>\n",
       "        <tr>\n",
       "            <th>Chapters</th>\n",
       "        </tr>\n",
       "    </thead>\n",
       "    <tbody>\n",
       "        <tr>\n",
       "            <td> ONE PLAYING PILGRIMS \"Christmas won't be Christmas with ...</td>\n",
       "        </tr>\n",
       "        <tr>\n",
       "            <td> TWO A MERRY CHRISTMAS Jo was the first to wake in the g ...</td>\n",
       "        </tr>\n",
       "        <tr>\n",
       "            <td> THREE THE LAURENCE BOY \"Jo! Jo! Where are you?\" cried M ...</td>\n",
       "        </tr>\n",
       "        <tr>\n",
       "            <td> FOUR BURDENS \"Oh, dear, how hard it does seem to take u ...</td>\n",
       "        </tr>\n",
       "        <tr>\n",
       "            <td> FIVE BEING NEIGHBORLY \"What in the world are you going  ...</td>\n",
       "        </tr>\n",
       "        <tr>\n",
       "            <td> SIX BETH FINDS THE PALACE BEAUTIFUL The big house did p ...</td>\n",
       "        </tr>\n",
       "        <tr>\n",
       "            <td> SEVEN AMY'S VALLEY OF HUMILIATION \"That boy is a perfec ...</td>\n",
       "        </tr>\n",
       "        <tr>\n",
       "            <td> EIGHT JO MEETS APOLLYON \"Girls, where are you going?\" a ...</td>\n",
       "        </tr>\n",
       "        <tr>\n",
       "            <td> NINE MEG GOES TO VANITY FAIR \"I do think it was the mos ...</td>\n",
       "        </tr>\n",
       "        <tr>\n",
       "            <td> TEN THE P.C. AND P.O. As spring came on, a new set of a ...</td>\n",
       "        </tr>\n",
       "    </tbody>\n",
       "</table>\n",
       "<p>... (37 rows omitted)</p>"
      ],
      "text/plain": [
       "Chapters\n",
       " ONE PLAYING PILGRIMS \"Christmas won't be Christmas with ...\n",
       " TWO A MERRY CHRISTMAS Jo was the first to wake in the g ...\n",
       " THREE THE LAURENCE BOY \"Jo! Jo! Where are you?\" cried M ...\n",
       " FOUR BURDENS \"Oh, dear, how hard it does seem to take u ...\n",
       " FIVE BEING NEIGHBORLY \"What in the world are you going  ...\n",
       " SIX BETH FINDS THE PALACE BEAUTIFUL The big house did p ...\n",
       " SEVEN AMY'S VALLEY OF HUMILIATION \"That boy is a perfec ...\n",
       " EIGHT JO MEETS APOLLYON \"Girls, where are you going?\" a ...\n",
       " NINE MEG GOES TO VANITY FAIR \"I do think it was the mos ...\n",
       " TEN THE P.C. AND P.O. As spring came on, a new set of a ...\n",
       "... (37 rows omitted)"
      ]
     },
     "execution_count": 27,
     "metadata": {},
     "output_type": "execute_result"
    }
   ],
   "source": [
    "# A glance of the chapters\n",
    "Table().with_column('Chapters', little_women_chapters)"
   ]
  },
  {
   "cell_type": "code",
   "execution_count": 28,
   "metadata": {},
   "outputs": [],
   "source": [
    "# Counts of names in the chapters of Little Women\n",
    "counts = Table().with_columns([\n",
    "        'Amy', np.char.count(little_women_chapters, 'Amy'),\n",
    "        'Beth', np.char.count(little_women_chapters, 'Beth'),\n",
    "        'Jo', np.char.count(little_women_chapters, 'Jo'),\n",
    "        'Meg', np.char.count(little_women_chapters, 'Meg'),\n",
    "        'Laurie', np.char.count(little_women_chapters, 'Laurie'),\n",
    "    ])"
   ]
  },
  {
   "cell_type": "code",
   "execution_count": 29,
   "metadata": {},
   "outputs": [
    {
     "data": {
      "text/plain": [
       "Text(0.5, 1.08, 'Cumulative Number of Times Each Name Appears')"
      ]
     },
     "execution_count": 29,
     "metadata": {},
     "output_type": "execute_result"
    },
    {
     "data": {
      "image/png": "[encoded data removed]",
      "text/plain": [
       "<Figure size 432x288 with 1 Axes>"
      ]
     },
     "metadata": {},
     "output_type": "display_data"
    }
   ],
   "source": [
    "# Plot the cumulative counts.\n",
    "cum_counts = counts.cumsum().with_column('Chapter', np.arange(1, 48, 1))\n",
    "cum_counts.plot(column_for_xticks=5)\n",
    "plots.title('Cumulative Number of Times Each Name Appears', y=1.08)"
   ]
  },
  {
   "cell_type": "markdown",
   "metadata": {},
   "source": [
    "### Representing Text as Word Frequency\n",
    "We are going to learn to create a word frequency representation of text.\n",
    "First we need to import CountVectorizer (from sklearn module) for this part of the lab.\n",
    "Sklearn is a Python machine learning module.  We will use it in some of the future labs\n",
    "as well."
   ]
  },
  {
   "cell_type": "code",
   "execution_count": 30,
   "metadata": {},
   "outputs": [],
   "source": [
    "from sklearn.feature_extraction.text import CountVectorizer"
   ]
  },
  {
   "cell_type": "code",
   "execution_count": 31,
   "metadata": {},
   "outputs": [
    {
     "name": "stdout",
     "output_type": "stream",
     "text": [
      "['Penn State football is great.', 'Penn State is a great state university.', 'Is Saturday a great game?', 'Penn State football had a great game Saturday.']\n"
     ]
    }
   ],
   "source": [
    "tweets =[\"Penn State football is great.\", \"Penn State is a great state university.\", \\\n",
    "\"Is Saturday a great game?\", \"Penn State football had a great game Saturday.\"]\n",
    "print(tweets)"
   ]
  },
  {
   "cell_type": "code",
   "execution_count": 32,
   "metadata": {},
   "outputs": [],
   "source": [
    "vectorizer = CountVectorizer()"
   ]
  },
  {
   "cell_type": "code",
   "execution_count": 33,
   "metadata": {},
   "outputs": [
    {
     "name": "stdout",
     "output_type": "stream",
     "text": [
      "['football', 'game', 'great', 'had', 'is', 'penn', 'saturday', 'state', 'university']\n"
     ]
    }
   ],
   "source": [
    "WFmatrix= vectorizer.fit_transform(tweets)\n",
    "print(vectorizer.get_feature_names())"
   ]
  },
  {
   "cell_type": "code",
   "execution_count": 34,
   "metadata": {},
   "outputs": [
    {
     "name": "stdout",
     "output_type": "stream",
     "text": [
      "[[1 0 1 0 1 1 0 1 0]\n",
      " [0 0 1 0 1 1 0 2 1]\n",
      " [0 1 1 0 1 0 1 0 0]\n",
      " [1 1 1 1 0 1 1 1 0]]\n"
     ]
    }
   ],
   "source": [
    "WFarray= WFmatrix.toarray()\n",
    "print(WFarray)"
   ]
  },
  {
   "cell_type": "markdown",
   "metadata": {},
   "source": [
    "### Exercise 4\n",
    "Create a list of 3-4 sentences/tweets that share some common words. Use CountVectorizer to create a Word Frequency representation of the sentences/tweets. Print the words (using get_feature_names() of vectorizer) of the matrix. Print the word frequency matrix."
   ]
  },
  {
   "cell_type": "code",
   "execution_count": 35,
   "metadata": {},
   "outputs": [
    {
     "name": "stdout",
     "output_type": "stream",
     "text": [
      "['There are many people living in East Halls', 'Some people live in renovated dorms', 'Other people live in traditional dorms', 'East halls is mostly freshmen'] \n",
      "\n",
      "['are', 'dorms', 'east', 'freshmen', 'halls', 'in', 'is', 'live', 'living', 'many', 'mostly', 'other', 'people', 'renovated', 'some', 'there', 'traditional']\n"
     ]
    }
   ],
   "source": [
    "mytweets=[\"There are many people living in East Halls\", \"Some people live in renovated dorms\",  \"Other people live in traditional dorms\", \"East halls is mostly freshmen\"]\n",
    "# We add '\\n' (a new line) to the end of mytweets in the print statement below.\n",
    "print(mytweets,'\\n')\n",
    "vectorizer = CountVectorizer()\n",
    "myWFmatrix = vectorizer.fit_transform(mytweets)\n",
    "print(vectorizer.get_feature_names())"
   ]
  },
  {
   "cell_type": "code",
   "execution_count": 36,
   "metadata": {},
   "outputs": [
    {
     "name": "stdout",
     "output_type": "stream",
     "text": [
      "[[1 0 1 0 1 1 0 0 1 1 0 0 1 0 0 1 0]\n",
      " [0 1 0 0 0 1 0 1 0 0 0 0 1 1 1 0 0]\n",
      " [0 1 0 0 0 1 0 1 0 0 0 1 1 0 0 0 1]\n",
      " [0 0 1 1 1 0 1 0 0 0 1 0 0 0 0 0 0]]\n"
     ]
    }
   ],
   "source": [
    "myWFarray = myWFmatrix.toarray()\n",
    "print(myWFarray)"
   ]
  },
  {
   "cell_type": "markdown",
   "metadata": {},
   "source": [
    "### Representing Tweets as Word Frequency\n",
    "We are going to read some actual tweets and see how they can be convered to Word Frequency representation in a similar way."
   ]
  },
  {
   "cell_type": "code",
   "execution_count": 37,
   "metadata": {},
   "outputs": [
    {
     "data": {
      "text/html": [
       "<table border=\"1\" class=\"dataframe\">\n",
       "    <thead>\n",
       "        <tr>\n",
       "            <th>Text</th> <th>Support</th>\n",
       "        </tr>\n",
       "    </thead>\n",
       "    <tbody>\n",
       "        <tr>\n",
       "            <td>RT @kasserolees: Energy is the #1 contributer to climate ...</td> <td>1      </td>\n",
       "        </tr>\n",
       "        <tr>\n",
       "            <td>RT @edelman_barbara: @msnbc why don t you have a climate ...</td> <td>1      </td>\n",
       "        </tr>\n",
       "        <tr>\n",
       "            <td>RT @OtagoGrad: @anthonyfurey @OskieOckham The data doesn ...</td> <td>0      </td>\n",
       "        </tr>\n",
       "        <tr>\n",
       "            <td>The Dow just recorded its 3rd worst day ever. Think @rea ...</td> <td>0      </td>\n",
       "        </tr>\n",
       "        <tr>\n",
       "            <td>RT @SimonBanksHB: I am not going to rule out things base ...</td> <td>0      </td>\n",
       "        </tr>\n",
       "    </tbody>\n",
       "</table>\n",
       "<p>... (1278 rows omitted)</p>"
      ],
      "text/plain": [
       "<IPython.core.display.HTML object>"
      ]
     },
     "metadata": {},
     "output_type": "display_data"
    }
   ],
   "source": [
    "t1 = Table.read_table(\"LabelledTweets.csv\", sep =',')\n",
    "t1.show(5)"
   ]
  },
  {
   "cell_type": "markdown",
   "metadata": {},
   "source": [
    "### Sample a small number of tweets \n",
    "We first sample a small number of tweets so that the word frequency table is not too large to visualize."
   ]
  },
  {
   "cell_type": "code",
   "execution_count": 38,
   "metadata": {},
   "outputs": [
    {
     "data": {
      "text/html": [
       "<table border=\"1\" class=\"dataframe\">\n",
       "    <thead>\n",
       "        <tr>\n",
       "            <th>Text</th> <th>Support</th>\n",
       "        </tr>\n",
       "    </thead>\n",
       "    <tbody>\n",
       "        <tr>\n",
       "            <td>@elizabethforma @algore Hello we were HELPLESS when Obam ...</td> <td>0      </td>\n",
       "        </tr>\n",
       "        <tr>\n",
       "            <td>RT @RealDrGina: Translation: Mueller witch hunt didn t w ...</td> <td>0      </td>\n",
       "        </tr>\n",
       "        <tr>\n",
       "            <td>RT @MikeHudema: 100 000 That s how many orangutans have  ...</td> <td>1      </td>\n",
       "        </tr>\n",
       "        <tr>\n",
       "            <td>RT @WhitfordBradley: Rick Scott is a science denier who  ...</td> <td>1      </td>\n",
       "        </tr>\n",
       "    </tbody>\n",
       "</table>"
      ],
      "text/plain": [
       "Text                                                         | Support\n",
       "@elizabethforma @algore Hello we were HELPLESS when Obam ... | 0\n",
       "RT @RealDrGina: Translation: Mueller witch hunt didn t w ... | 0\n",
       "RT @MikeHudema: 100 000 That s how many orangutans have  ... | 1\n",
       "RT @WhitfordBradley: Rick Scott is a science denier who  ... | 1"
      ]
     },
     "execution_count": 38,
     "metadata": {},
     "output_type": "execute_result"
    }
   ],
   "source": [
    "sampled_t1 = t1.sample(4)\n",
    "sampled_t1"
   ]
  },
  {
   "cell_type": "markdown",
   "metadata": {},
   "source": [
    "### We take the column \"Text\" of the sampled tweet table, then use the list function to turn it into a list."
   ]
  },
  {
   "cell_type": "code",
   "execution_count": 39,
   "metadata": {},
   "outputs": [
    {
     "name": "stdout",
     "output_type": "stream",
     "text": [
      "['@elizabethforma @algore Hello we were HELPLESS when Obama was in office! Destroyed lost our jobs homes EVERYTHING! The only time climate change would of helped us was.......good weather while living on the curb!', 'RT @RealDrGina: Translation: Mueller witch hunt didn t work. Borking Kavanaugh failed. They can t get Americans to vote 4 them so Dems nee', 'RT @MikeHudema: 100 000 That s how many orangutans have died in the past 16 years. Their habitat is being destroyed to make way to palm oil', 'RT @WhitfordBradley: Rick Scott is a science denier who banned the use of the phrase climate change to satisfy his dark money benefactors']\n"
     ]
    }
   ],
   "source": [
    "sampled_list= list(sampled_t1[\"Text\"])\n",
    "print(sampled_list)"
   ]
  },
  {
   "cell_type": "code",
   "execution_count": 40,
   "metadata": {},
   "outputs": [],
   "source": [
    "count_vect = CountVectorizer()\n",
    "tweet_vect = count_vect.fit_transform(sampled_list)"
   ]
  },
  {
   "cell_type": "markdown",
   "metadata": {},
   "source": [
    "### Exercise 5\n",
    "Display the words and the word frequency extracted from the tweets in the sampled_list, using the word frequency matrix generated by CountVectorizer and fit_transform above."
   ]
  },
  {
   "cell_type": "code",
   "execution_count": 46,
   "metadata": {},
   "outputs": [
    {
     "name": "stdout",
     "output_type": "stream",
     "text": [
      "['000', '100', '16', 'algore', 'americans', 'banned', 'being', 'benefactors', 'borking', 'can', 'change', 'climate', 'curb', 'dark', 'dems', 'denier', 'destroyed', 'didn', 'died', 'elizabethforma', 'everything', 'failed', 'get', 'good', 'habitat', 'have', 'hello', 'helped', 'helpless', 'his', 'homes', 'how', 'hunt', 'in', 'is', 'jobs', 'kavanaugh', 'living', 'lost', 'make', 'many', 'mikehudema', 'money', 'mueller', 'nee', 'obama', 'of', 'office', 'oil', 'on', 'only', 'orangutans', 'our', 'palm', 'past', 'phrase', 'realdrgina', 'rick', 'rt', 'satisfy', 'science', 'scott', 'so', 'that', 'the', 'their', 'them', 'they', 'time', 'to', 'translation', 'us', 'use', 'vote', 'was', 'way', 'we', 'weather', 'were', 'when', 'while', 'whitfordbradley', 'who', 'witch', 'work', 'would', 'years']\n"
     ]
    }
   ],
   "source": [
    "print(count_vect.get_feature_names())"
   ]
  },
  {
   "cell_type": "code",
   "execution_count": 55,
   "metadata": {},
   "outputs": [
    {
     "name": "stdout",
     "output_type": "stream",
     "text": [
      "[[0 0 0 1 0 0 0 0 0 0 1 1 1 0 0 0 1 0 0 1 1 0 0 1 0 0 1 1 1 0 1 0 0 1 0 1\n",
      "  0 1 1 0 0 0 0 0 0 1 1 1 0 1 1 0 1 0 0 0 0 0 0 0 0 0 0 0 2 0 0 0 1 0 0 1\n",
      "  0 0 2 0 1 1 1 1 1 0 0 0 0 1 0]\n",
      " [0 0 0 0 1 0 0 0 1 1 0 0 0 0 1 0 0 1 0 0 0 1 1 0 0 0 0 0 0 0 0 0 1 0 0 0\n",
      "  1 0 0 0 0 0 0 1 1 0 0 0 0 0 0 0 0 0 0 0 1 0 1 0 0 0 1 0 0 0 1 1 0 1 1 0\n",
      "  0 1 0 0 0 0 0 0 0 0 0 1 1 0 0]\n",
      " [1 1 1 0 0 0 1 0 0 0 0 0 0 0 0 0 1 0 1 0 0 0 0 0 1 1 0 0 0 0 0 1 0 1 1 0\n",
      "  0 0 0 1 1 1 0 0 0 0 0 0 1 0 0 1 0 1 1 0 0 0 1 0 0 0 0 1 1 1 0 0 0 2 0 0\n",
      "  0 0 0 1 0 0 0 0 0 0 0 0 0 0 1]\n",
      " [0 0 0 0 0 1 0 1 0 0 1 1 0 1 0 1 0 0 0 0 0 0 0 0 0 0 0 0 0 1 0 0 0 0 1 0\n",
      "  0 0 0 0 0 0 1 0 0 0 1 0 0 0 0 0 0 0 0 1 0 1 1 1 1 1 0 0 2 0 0 0 0 1 0 0\n",
      "  1 0 0 0 0 0 0 0 0 1 1 0 0 0 0]]\n"
     ]
    }
   ],
   "source": [
    "tweetWFarray = tweet_vect.toarray()\n",
    "print(tweetWFarray)"
   ]
  },
  {
   "cell_type": "code",
   "execution_count": null,
   "metadata": {},
   "outputs": [],
   "source": []
  }
 ],
 "metadata": {
  "kernelspec": {
   "display_name": "Python 3",
   "language": "python",
   "name": "python3"
  },
  "language_info": {
   "codemirror_mode": {
    "name": "ipython",
    "version": 3
   },
   "file_extension": ".py",
   "mimetype": "text/x-python",
   "name": "python",
   "nbconvert_exporter": "python",
   "pygments_lexer": "ipython3",
   "version": "3.7.3"
  }
 },
 "nbformat": 4,
 "nbformat_minor": 2
}
